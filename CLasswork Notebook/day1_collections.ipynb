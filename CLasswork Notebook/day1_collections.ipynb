{
 "cells": [
  {
   "metadata": {
    "collapsed": true
   },
   "cell_type": "markdown",
   "source": "<h1>List</h1>",
   "id": "e3042eed42ab266d"
  },
  {
   "metadata": {
    "ExecuteTime": {
     "end_time": "2025-09-09T08:21:30.567369Z",
     "start_time": "2025-09-09T08:21:30.563292Z"
    }
   },
   "cell_type": "code",
   "source": "myList = [10,20,30,40]",
   "id": "7fadbf025728cce7",
   "outputs": [],
   "execution_count": 2
  },
  {
   "metadata": {
    "ExecuteTime": {
     "end_time": "2025-09-09T08:21:31.179542Z",
     "start_time": "2025-09-09T08:21:31.174253Z"
    }
   },
   "cell_type": "code",
   "source": "myList[0]",
   "id": "997e74a14fd5ac00",
   "outputs": [
    {
     "data": {
      "text/plain": [
       "10"
      ]
     },
     "execution_count": 6,
     "metadata": {},
     "output_type": "execute_result"
    }
   ],
   "execution_count": 6
  },
  {
   "metadata": {
    "ExecuteTime": {
     "end_time": "2025-09-09T08:22:09.164653Z",
     "start_time": "2025-09-09T08:22:09.157379Z"
    }
   },
   "cell_type": "code",
   "source": [
    "for i in myList:\n",
    "    print(i,end=' ')"
   ],
   "id": "43b81c897fe24185",
   "outputs": [
    {
     "name": "stdout",
     "output_type": "stream",
     "text": [
      "10 20 30 40 "
     ]
    }
   ],
   "execution_count": 10
  },
  {
   "metadata": {
    "ExecuteTime": {
     "end_time": "2025-09-09T08:22:38.411888Z",
     "start_time": "2025-09-09T08:22:38.402786Z"
    }
   },
   "cell_type": "code",
   "source": [
    "del myList[0]\n",
    "myList"
   ],
   "id": "bdcb1bbd52be8bf4",
   "outputs": [
    {
     "data": {
      "text/plain": [
       "[30, 40]"
      ]
     },
     "execution_count": 13,
     "metadata": {},
     "output_type": "execute_result"
    }
   ],
   "execution_count": 13
  },
  {
   "metadata": {
    "ExecuteTime": {
     "end_time": "2025-09-09T08:23:41.272753Z",
     "start_time": "2025-09-09T08:23:41.265604Z"
    }
   },
   "cell_type": "code",
   "source": [
    "\n",
    "myList.append(50)\n",
    "myList.append(60)\n",
    "myList.append(70)\n",
    "\n",
    "print(myList)"
   ],
   "id": "fd7f158b23473030",
   "outputs": [
    {
     "name": "stdout",
     "output_type": "stream",
     "text": [
      "[30, 40, 50, 60, 70, 50, 60, 70, 50, 60, 70]\n"
     ]
    }
   ],
   "execution_count": 16
  },
  {
   "metadata": {
    "ExecuteTime": {
     "end_time": "2025-09-09T08:24:22.566208Z",
     "start_time": "2025-09-09T08:24:22.557351Z"
    }
   },
   "cell_type": "code",
   "source": [
    "##slicing\n",
    "myList[2:5]"
   ],
   "id": "a090ccb746b7b785",
   "outputs": [
    {
     "data": {
      "text/plain": [
       "[50, 60, 70]"
      ]
     },
     "execution_count": 18,
     "metadata": {},
     "output_type": "execute_result"
    }
   ],
   "execution_count": 18
  },
  {
   "metadata": {
    "ExecuteTime": {
     "end_time": "2025-09-09T08:24:49.741612Z",
     "start_time": "2025-09-09T08:24:49.736092Z"
    }
   },
   "cell_type": "code",
   "source": "del myList[5:]",
   "id": "13ee194a35e7e365",
   "outputs": [],
   "execution_count": 19
  },
  {
   "metadata": {
    "ExecuteTime": {
     "end_time": "2025-09-09T08:24:55.184387Z",
     "start_time": "2025-09-09T08:24:55.175666Z"
    }
   },
   "cell_type": "code",
   "source": "myList",
   "id": "8cc9d15766d1df13",
   "outputs": [
    {
     "data": {
      "text/plain": [
       "[30, 40, 50, 60, 70]"
      ]
     },
     "execution_count": 20,
     "metadata": {},
     "output_type": "execute_result"
    }
   ],
   "execution_count": 20
  },
  {
   "metadata": {
    "ExecuteTime": {
     "end_time": "2025-09-09T08:25:40.613072Z",
     "start_time": "2025-09-09T08:25:40.604461Z"
    }
   },
   "cell_type": "code",
   "source": [
    "##negative indexing\n",
    "myList[-4]"
   ],
   "id": "3c8e320492278bcc",
   "outputs": [
    {
     "data": {
      "text/plain": [
       "[40, 50, 60]"
      ]
     },
     "execution_count": 22,
     "metadata": {},
     "output_type": "execute_result"
    }
   ],
   "execution_count": 22
  },
  {
   "metadata": {
    "ExecuteTime": {
     "end_time": "2025-09-09T08:26:04.319387Z",
     "start_time": "2025-09-09T08:26:04.311028Z"
    }
   },
   "cell_type": "code",
   "source": "myList[-4:-1]",
   "id": "33f284d50cd5daf7",
   "outputs": [
    {
     "data": {
      "text/plain": [
       "[40, 50, 60]"
      ]
     },
     "execution_count": 23,
     "metadata": {},
     "output_type": "execute_result"
    }
   ],
   "execution_count": 23
  },
  {
   "metadata": {
    "ExecuteTime": {
     "end_time": "2025-09-09T08:29:27.240345Z",
     "start_time": "2025-09-09T08:29:27.232382Z"
    }
   },
   "cell_type": "code",
   "source": [
    "##iterating through list\n",
    "for i in range(len(myList)):\n",
    "    print(i,\"-\",myList[i], end = \" \")"
   ],
   "id": "9aa6cc51f1427721",
   "outputs": [
    {
     "name": "stdout",
     "output_type": "stream",
     "text": [
      "0 - 30 1 - 40 2 - 50 3 - 60 4 - 70 "
     ]
    }
   ],
   "execution_count": 29
  },
  {
   "metadata": {
    "ExecuteTime": {
     "end_time": "2025-09-09T08:32:28.979199Z",
     "start_time": "2025-09-09T08:32:28.971664Z"
    }
   },
   "cell_type": "code",
   "source": [
    "##reversing through negative indexing\n",
    "\n",
    "for i in range(len(myList)-1, -1 , -1):\n",
    "    print(myList[i], end=\" \")"
   ],
   "id": "244735f688f683f5",
   "outputs": [
    {
     "name": "stdout",
     "output_type": "stream",
     "text": [
      "70 60 50 40 30 "
     ]
    }
   ],
   "execution_count": 34
  },
  {
   "metadata": {
    "ExecuteTime": {
     "end_time": "2025-09-09T08:36:11.438114Z",
     "start_time": "2025-09-09T08:36:11.431927Z"
    }
   },
   "cell_type": "code",
   "source": "my_list = [3,5,16,7,1,2,14,8]",
   "id": "f71e8a1b950b641e",
   "outputs": [],
   "execution_count": 35
  },
  {
   "metadata": {
    "ExecuteTime": {
     "end_time": "2025-09-09T08:37:41.460657Z",
     "start_time": "2025-09-09T08:37:41.452765Z"
    }
   },
   "cell_type": "code",
   "source": [
    "print(\"Even numbers - \",end= \" \")\n",
    "for num in my_list:\n",
    "    if(num%2)==0:\n",
    "        print(num,end=\" \")"
   ],
   "id": "6894827f6292d216",
   "outputs": [
    {
     "name": "stdout",
     "output_type": "stream",
     "text": [
      "Even numbers -  16 2 14 8 "
     ]
    }
   ],
   "execution_count": 37
  },
  {
   "metadata": {
    "ExecuteTime": {
     "end_time": "2025-09-09T08:38:24.767415Z",
     "start_time": "2025-09-09T08:38:24.758580Z"
    }
   },
   "cell_type": "code",
   "source": [
    "print()\n",
    "print(\"Odd numbers - \",end= \" \")\n",
    "for num in my_list:\n",
    "    if(num%2)!=0:\n",
    "        print(num,end=\" \")"
   ],
   "id": "c171188091c1ea8e",
   "outputs": [
    {
     "name": "stdout",
     "output_type": "stream",
     "text": [
      "\n",
      "Odd numbers -  3 5 7 1 "
     ]
    }
   ],
   "execution_count": 38
  },
  {
   "metadata": {
    "ExecuteTime": {
     "end_time": "2025-09-09T08:43:28.921880Z",
     "start_time": "2025-09-09T08:43:28.912404Z"
    }
   },
   "cell_type": "code",
   "source": [
    "print(\"Prime number - \",end= \" \")\n",
    "for num in my_list:\n",
    "    if num==1:\n",
    "        continue\n",
    "    for i in range(2,num//2+1):\n",
    "        if(num%i==0 ):\n",
    "            break\n",
    "    else:\n",
    "        print(num, end= \" \")"
   ],
   "id": "f1645ff3244bab64",
   "outputs": [
    {
     "name": "stdout",
     "output_type": "stream",
     "text": [
      "Prime number -  3 5 7 2 "
     ]
    }
   ],
   "execution_count": 44
  },
  {
   "metadata": {
    "ExecuteTime": {
     "end_time": "2025-09-09T08:44:23.878531Z",
     "start_time": "2025-09-09T08:44:23.872890Z"
    }
   },
   "cell_type": "code",
   "source": [
    "##Functions in List\n",
    "my_list.append(6)\n"
   ],
   "id": "bdca62dac616abdb",
   "outputs": [],
   "execution_count": 45
  },
  {
   "metadata": {
    "ExecuteTime": {
     "end_time": "2025-09-09T08:44:32.526146Z",
     "start_time": "2025-09-09T08:44:32.516964Z"
    }
   },
   "cell_type": "code",
   "source": "my_list",
   "id": "dda78572237b9745",
   "outputs": [
    {
     "data": {
      "text/plain": [
       "[3, 5, 16, 7, 1, 2, 14, 8, 6]"
      ]
     },
     "execution_count": 46,
     "metadata": {},
     "output_type": "execute_result"
    }
   ],
   "execution_count": 46
  },
  {
   "metadata": {
    "ExecuteTime": {
     "end_time": "2025-09-09T08:45:02.360218Z",
     "start_time": "2025-09-09T08:45:02.351239Z"
    }
   },
   "cell_type": "code",
   "source": "my_list.pop()",
   "id": "7b4bc71bd75b7326",
   "outputs": [
    {
     "data": {
      "text/plain": [
       "6"
      ]
     },
     "execution_count": 47,
     "metadata": {},
     "output_type": "execute_result"
    }
   ],
   "execution_count": 47
  },
  {
   "metadata": {
    "ExecuteTime": {
     "end_time": "2025-09-09T08:45:09.236417Z",
     "start_time": "2025-09-09T08:45:09.227659Z"
    }
   },
   "cell_type": "code",
   "source": "my_list",
   "id": "8b7b34ae3b859dd8",
   "outputs": [
    {
     "data": {
      "text/plain": [
       "[3, 5, 16, 7, 1, 2, 14, 8]"
      ]
     },
     "execution_count": 48,
     "metadata": {},
     "output_type": "execute_result"
    }
   ],
   "execution_count": 48
  },
  {
   "metadata": {
    "ExecuteTime": {
     "end_time": "2025-09-09T08:45:52.129451Z",
     "start_time": "2025-09-09T08:45:52.120440Z"
    }
   },
   "cell_type": "code",
   "source": [
    "my_list.insert(2,4)\n",
    "my_list"
   ],
   "id": "8d9939f0fbd206ea",
   "outputs": [
    {
     "data": {
      "text/plain": [
       "[3, 5, 4, 16, 7, 1, 2, 14, 8]"
      ]
     },
     "execution_count": 49,
     "metadata": {},
     "output_type": "execute_result"
    }
   ],
   "execution_count": 49
  },
  {
   "metadata": {
    "ExecuteTime": {
     "end_time": "2025-09-09T08:46:15.705758Z",
     "start_time": "2025-09-09T08:46:15.696841Z"
    }
   },
   "cell_type": "code",
   "source": [
    "my_list.remove(14)\n",
    "my_list"
   ],
   "id": "49ac31cb2aea3ab3",
   "outputs": [
    {
     "data": {
      "text/plain": [
       "[3, 5, 4, 16, 7, 1, 2, 8]"
      ]
     },
     "execution_count": 50,
     "metadata": {},
     "output_type": "execute_result"
    }
   ],
   "execution_count": 50
  },
  {
   "metadata": {
    "ExecuteTime": {
     "end_time": "2025-09-09T08:49:10.618607Z",
     "start_time": "2025-09-09T08:49:10.609701Z"
    }
   },
   "cell_type": "code",
   "source": [
    "my_list.pop(0)\n",
    "my_list"
   ],
   "id": "affab212e042eafe",
   "outputs": [
    {
     "data": {
      "text/plain": [
       "[5, 4, 16, 7, 1, 2, 8]"
      ]
     },
     "execution_count": 52,
     "metadata": {},
     "output_type": "execute_result"
    }
   ],
   "execution_count": 52
  },
  {
   "metadata": {
    "ExecuteTime": {
     "end_time": "2025-09-09T08:52:08.724061Z",
     "start_time": "2025-09-09T08:52:08.712296Z"
    }
   },
   "cell_type": "code",
   "source": [
    "words_list = [\"saty\",'shiv','uman','piyu']\n",
    "print(words_list)\n",
    "words_list.extend(my_list)\n",
    "words_list"
   ],
   "id": "eeb3f0ce1aed6861",
   "outputs": [
    {
     "name": "stdout",
     "output_type": "stream",
     "text": [
      "['saty', 'shiv', 'uman', 'piyu']\n"
     ]
    },
    {
     "data": {
      "text/plain": [
       "['saty', 'shiv', 'uman', 'piyu', 5, 4, 16, 7, 1, 2, 8]"
      ]
     },
     "execution_count": 53,
     "metadata": {},
     "output_type": "execute_result"
    }
   ],
   "execution_count": 53
  },
  {
   "metadata": {
    "ExecuteTime": {
     "end_time": "2025-09-09T08:56:58.849524Z",
     "start_time": "2025-09-09T08:56:58.841196Z"
    }
   },
   "cell_type": "code",
   "source": [
    "my_list1 = my_list.copy()\n",
    "my_list2 = my_list1\n",
    "\n",
    "my_list.pop()\n",
    "print(my_list)\n",
    "print(my_list1)\n",
    "print(my_list2)"
   ],
   "id": "b9009ec2d63eb31f",
   "outputs": [
    {
     "name": "stdout",
     "output_type": "stream",
     "text": [
      "[5, 4, 16, 7, 1, 2]\n",
      "[5, 4, 16, 7, 1, 2, 8]\n",
      "[5, 4, 16, 7, 1, 2, 8]\n"
     ]
    }
   ],
   "execution_count": 54
  },
  {
   "metadata": {
    "ExecuteTime": {
     "end_time": "2025-09-09T08:58:02.255855Z",
     "start_time": "2025-09-09T08:58:02.248495Z"
    }
   },
   "cell_type": "code",
   "source": [
    "my_list2.remove(16)\n",
    "my_list1.insert(9,2)\n",
    "\n",
    "print(my_list)\n",
    "print(my_list1)\n",
    "print(my_list2)"
   ],
   "id": "27d2d3ec885166ae",
   "outputs": [
    {
     "name": "stdout",
     "output_type": "stream",
     "text": [
      "[5, 4, 16, 7, 1, 2]\n",
      "[5, 4, 7, 1, 2, 8, 2]\n",
      "[5, 4, 7, 1, 2, 8, 2]\n"
     ]
    }
   ],
   "execution_count": 55
  },
  {
   "metadata": {
    "ExecuteTime": {
     "end_time": "2025-09-09T08:59:31.939081Z",
     "start_time": "2025-09-09T08:59:31.932119Z"
    }
   },
   "cell_type": "code",
   "source": [
    "print(my_list.count(16))\n",
    "print(my_list1.count(16))"
   ],
   "id": "5b2c5bc72d6ef9b3",
   "outputs": [
    {
     "name": "stdout",
     "output_type": "stream",
     "text": [
      "1\n",
      "0\n"
     ]
    }
   ],
   "execution_count": 57
  },
  {
   "metadata": {
    "ExecuteTime": {
     "end_time": "2025-09-09T09:01:23.475067Z",
     "start_time": "2025-09-09T09:01:23.468102Z"
    }
   },
   "cell_type": "code",
   "source": "print(my_list1.index(2,-2))",
   "id": "7b5159c82a94ee23",
   "outputs": [
    {
     "name": "stdout",
     "output_type": "stream",
     "text": [
      "6\n"
     ]
    }
   ],
   "execution_count": 61
  },
  {
   "metadata": {},
   "cell_type": "code",
   "outputs": [],
   "execution_count": null,
   "source": [
    "my_list1.reverse()\n",
    "\n",
    "my_list1.sort(reverse=True)\n",
    "my_list2\n",
    "\n"
   ],
   "id": "45025a1aef31ec5b"
  },
  {
   "metadata": {},
   "cell_type": "markdown",
   "source": "<h1>Assignment 1</h1>\n",
   "id": "eb34cc30f4bc4c51"
  },
  {
   "metadata": {
    "ExecuteTime": {
     "end_time": "2025-09-09T09:15:52.228682Z",
     "start_time": "2025-09-09T09:15:52.220688Z"
    }
   },
   "cell_type": "code",
   "source": [
    "## list of odd numbers between 1 to 100\n",
    "odd_list = []\n",
    "for num in range(1,101):\n",
    "    if num%2!=0:\n",
    "        odd_list.append(num)\n",
    "print(odd_list)"
   ],
   "id": "212131b561f27ccb",
   "outputs": [
    {
     "name": "stdout",
     "output_type": "stream",
     "text": [
      "[1, 3, 5, 7, 9, 11, 13, 15, 17, 19, 21, 23, 25, 27, 29, 31, 33, 35, 37, 39, 41, 43, 45, 47, 49, 51, 53, 55, 57, 59, 61, 63, 65, 67, 69, 71, 73, 75, 77, 79, 81, 83, 85, 87, 89, 91, 93, 95, 97, 99]\n"
     ]
    }
   ],
   "execution_count": 71
  },
  {
   "metadata": {
    "ExecuteTime": {
     "end_time": "2025-09-09T09:18:12.194482Z",
     "start_time": "2025-09-09T09:18:12.185635Z"
    }
   },
   "cell_type": "code",
   "source": [
    "##list of prime between 2 to 100\n",
    "prime_list = [2]\n",
    "for num in range(3,101,2):\n",
    "    for i in range(2,num//2+1):\n",
    "        if num%i==0:\n",
    "            break\n",
    "    else:\n",
    "        prime_list.append(num)\n",
    "print(prime_list)"
   ],
   "id": "9f4e9c814097b016",
   "outputs": [
    {
     "name": "stdout",
     "output_type": "stream",
     "text": [
      "[2, 3, 5, 7, 11, 13, 17, 19, 23, 29, 31, 37, 41, 43, 47, 53, 59, 61, 67, 71, 73, 79, 83, 89, 97]\n"
     ]
    }
   ],
   "execution_count": 73
  },
  {
   "metadata": {
    "ExecuteTime": {
     "end_time": "2025-09-09T09:34:17.485124Z",
     "start_time": "2025-09-09T09:34:17.476717Z"
    }
   },
   "cell_type": "code",
   "source": [
    "##duplicate elements in list\n",
    "my_list3 = [2,3,4,1,2,6,1,7]\n",
    "dup_list = []\n",
    "for num in my_list3:\n",
    "    if my_list3.count(num)>=2 :\n",
    "        if dup_list.count(num) == 0:\n",
    "            (dup_list.append(num))\n",
    "print(dup_list)"
   ],
   "id": "2cfe71ee2e57844d",
   "outputs": [
    {
     "name": "stdout",
     "output_type": "stream",
     "text": [
      "[2, 1]\n"
     ]
    }
   ],
   "execution_count": 88
  },
  {
   "metadata": {
    "ExecuteTime": {
     "end_time": "2025-09-09T09:25:34.014835Z",
     "start_time": "2025-09-09T09:25:34.006296Z"
    }
   },
   "cell_type": "code",
   "source": [
    "##Adding elements of two list\n",
    "my_list4 = [1,3,6,2,4]\n",
    "my_list5 = [5,7,0,9,8]\n",
    "sum_list = []\n",
    "for i in range(len(my_list4)):\n",
    "    sum_list.append(my_list4[i]+ my_list5[i])\n",
    "print(sum_list)"
   ],
   "id": "b1a4687fc619b7a5",
   "outputs": [
    {
     "name": "stdout",
     "output_type": "stream",
     "text": [
      "[6, 10, 6, 11, 12]\n"
     ]
    }
   ],
   "execution_count": 80
  },
  {
   "metadata": {
    "ExecuteTime": {
     "end_time": "2025-09-09T09:31:00.750664Z",
     "start_time": "2025-09-09T09:31:00.742335Z"
    }
   },
   "cell_type": "code",
   "source": [
    "##Adding elements of two lis twith different lenght\n",
    "my_list6 = [1,2,5,7]\n",
    "my_list7 = [9,4,3,0,6,8]\n",
    "sum_list2 = []\n",
    "rng = min(len(my_list6),len(my_list7))\n",
    "for i in range(rng):\n",
    "    sum_list2.append(my_list6[i]+ my_list7[i])\n",
    "if len(my_list7)>len(my_list6):\n",
    "    sum_list2.extend(my_list7[rng:])\n",
    "else:\n",
    "    sum_list2.extend(my_list6[rng:])\n",
    "print(sum_list2)"
   ],
   "id": "9ef2c6dbde60029",
   "outputs": [
    {
     "name": "stdout",
     "output_type": "stream",
     "text": [
      "[10, 6, 8, 7, 6, 8]\n"
     ]
    }
   ],
   "execution_count": 84
  },
  {
   "metadata": {
    "ExecuteTime": {
     "end_time": "2025-09-09T09:46:22.301023Z",
     "start_time": "2025-09-09T09:46:22.293005Z"
    }
   },
   "cell_type": "code",
   "source": [
    "##removing dublicate\n",
    "\n",
    "my_list8 = [2,3,4,1,2,6,1,7]\n",
    "\n",
    "for num in my_list3:\n",
    "    if my_list8.count(num)>=2 :\n",
    "        my_list8.remove(num)\n",
    "print(my_list8)"
   ],
   "id": "883a5c1349dcf81f",
   "outputs": [
    {
     "name": "stdout",
     "output_type": "stream",
     "text": [
      "[3, 4, 2, 6, 1, 7]\n"
     ]
    }
   ],
   "execution_count": 90
  },
  {
   "metadata": {},
   "cell_type": "markdown",
   "source": "<h1>Strings</h1>\n",
   "id": "40135bbd85001e73"
  },
  {
   "metadata": {
    "ExecuteTime": {
     "end_time": "2025-09-09T11:58:58.645720Z",
     "start_time": "2025-09-09T11:58:58.638211Z"
    }
   },
   "cell_type": "code",
   "source": [
    "s = \"Hello World\"\n",
    "print(s)\n",
    "s = 'Hello World'\n",
    "print(s)\n",
    "s= \"\"\"Hello world!\n",
    "        life is beautifull\"\"\"\n",
    "print(s)"
   ],
   "id": "1527a086c6e45f49",
   "outputs": [
    {
     "name": "stdout",
     "output_type": "stream",
     "text": [
      "Hello World\n",
      "Hello World\n",
      "Hello world!\n",
      "        life is beautifull\n"
     ]
    }
   ],
   "execution_count": 35
  },
  {
   "metadata": {},
   "cell_type": "code",
   "outputs": [],
   "execution_count": null,
   "source": [
    "type(s)\n",
    "\n"
   ],
   "id": "3db0acae4b6f41f9"
  },
  {
   "metadata": {},
   "cell_type": "markdown",
   "source": "",
   "id": "782e53c99d3a4f2d"
  },
  {
   "metadata": {},
   "cell_type": "markdown",
   "source": "Strings are immutable\n",
   "id": "1f3c0386a00fe1ab"
  },
  {
   "metadata": {
    "ExecuteTime": {
     "end_time": "2025-09-09T11:59:04.048473Z",
     "start_time": "2025-09-09T11:59:04.041009Z"
    }
   },
   "cell_type": "code",
   "source": [
    "for i in  s:\n",
    "    print(i,end = \" \")"
   ],
   "id": "95b96d6e8096beb1",
   "outputs": [
    {
     "name": "stdout",
     "output_type": "stream",
     "text": [
      "H e l l o   w o r l d ! \n",
      "                 l i f e   i s   b e a u t i f u l l "
     ]
    }
   ],
   "execution_count": 36
  },
  {
   "metadata": {
    "ExecuteTime": {
     "end_time": "2025-09-09T11:59:45.857185Z",
     "start_time": "2025-09-09T11:59:45.849622Z"
    }
   },
   "cell_type": "code",
   "source": [
    "s =\"Hello! my name is Satyam\"\n",
    "\n",
    "for i in s:\n",
    "    print(i,end=\" \")"
   ],
   "id": "fb8f14ed6039077f",
   "outputs": [
    {
     "name": "stdout",
     "output_type": "stream",
     "text": [
      "H e l l o !   m y   n a m e   i s   S a t y a m "
     ]
    }
   ],
   "execution_count": 39
  },
  {
   "metadata": {
    "ExecuteTime": {
     "end_time": "2025-09-09T11:46:18.174689Z",
     "start_time": "2025-09-09T11:46:18.167558Z"
    }
   },
   "cell_type": "code",
   "source": [
    "for i in s[-1:-10:-1]:\n",
    "    print(i , end = \" \")"
   ],
   "id": "58954ef3667aade1",
   "outputs": [
    {
     "name": "stdout",
     "output_type": "stream",
     "text": [
      "m a y t a S   s i "
     ]
    }
   ],
   "execution_count": 16
  },
  {
   "metadata": {
    "ExecuteTime": {
     "end_time": "2025-09-09T11:48:02.605134Z",
     "start_time": "2025-09-09T11:48:02.597301Z"
    }
   },
   "cell_type": "code",
   "source": [
    "for i in s[0:6]:\n",
    "    print(i,end= \" \")"
   ],
   "id": "6e429982ab748b9f",
   "outputs": [
    {
     "name": "stdout",
     "output_type": "stream",
     "text": [
      "H e l l o ! "
     ]
    }
   ],
   "execution_count": 18
  },
  {
   "metadata": {
    "ExecuteTime": {
     "end_time": "2025-09-09T11:55:14.489313Z",
     "start_time": "2025-09-09T11:55:14.480374Z"
    }
   },
   "cell_type": "code",
   "source": [
    "##Sting Functions\n",
    "\n",
    "s.upper()"
   ],
   "id": "8181939f57f2b8e8",
   "outputs": [
    {
     "data": {
      "text/plain": [
       "'HELLO! MY NAME IS SATYAM'"
      ]
     },
     "execution_count": 19,
     "metadata": {},
     "output_type": "execute_result"
    }
   ],
   "execution_count": 19
  },
  {
   "metadata": {
    "ExecuteTime": {
     "end_time": "2025-09-09T11:55:22.871992Z",
     "start_time": "2025-09-09T11:55:22.862622Z"
    }
   },
   "cell_type": "code",
   "source": "s.lower()",
   "id": "c02da3d6ce0c8f4b",
   "outputs": [
    {
     "data": {
      "text/plain": [
       "'hello! my name is satyam'"
      ]
     },
     "execution_count": 21,
     "metadata": {},
     "output_type": "execute_result"
    }
   ],
   "execution_count": 21
  },
  {
   "metadata": {
    "ExecuteTime": {
     "end_time": "2025-09-09T11:55:45.546494Z",
     "start_time": "2025-09-09T11:55:45.537793Z"
    }
   },
   "cell_type": "code",
   "source": "s.capitalize()",
   "id": "756b5fbb8a28e2b7",
   "outputs": [
    {
     "data": {
      "text/plain": [
       "'Hello! my name is satyam'"
      ]
     },
     "execution_count": 22,
     "metadata": {},
     "output_type": "execute_result"
    }
   ],
   "execution_count": 22
  },
  {
   "metadata": {
    "ExecuteTime": {
     "end_time": "2025-09-09T11:56:30.140155Z",
     "start_time": "2025-09-09T11:56:30.131110Z"
    }
   },
   "cell_type": "code",
   "source": "s.casefold()",
   "id": "f8dbf56c23e89fda",
   "outputs": [
    {
     "data": {
      "text/plain": [
       "'hello! my name is satyam'"
      ]
     },
     "execution_count": 25,
     "metadata": {},
     "output_type": "execute_result"
    }
   ],
   "execution_count": 25
  },
  {
   "metadata": {
    "ExecuteTime": {
     "end_time": "2025-09-09T11:57:16.355139Z",
     "start_time": "2025-09-09T11:57:16.347537Z"
    }
   },
   "cell_type": "code",
   "source": "s.index('H')",
   "id": "1ba78e2733dd5cbc",
   "outputs": [
    {
     "data": {
      "text/plain": [
       "0"
      ]
     },
     "execution_count": 27,
     "metadata": {},
     "output_type": "execute_result"
    }
   ],
   "execution_count": 27
  },
  {
   "metadata": {
    "ExecuteTime": {
     "end_time": "2025-09-09T11:57:32.376045Z",
     "start_time": "2025-09-09T11:57:32.367097Z"
    }
   },
   "cell_type": "code",
   "source": "s.find('T')",
   "id": "924ea2cb93033ac4",
   "outputs": [
    {
     "data": {
      "text/plain": [
       "-1"
      ]
     },
     "execution_count": 29,
     "metadata": {},
     "output_type": "execute_result"
    }
   ],
   "execution_count": 29
  },
  {
   "metadata": {
    "ExecuteTime": {
     "end_time": "2025-09-09T11:58:12.908991Z",
     "start_time": "2025-09-09T11:58:12.900323Z"
    }
   },
   "cell_type": "code",
   "source": "s.count('a')",
   "id": "5e6415b1d4c14d3d",
   "outputs": [
    {
     "data": {
      "text/plain": [
       "3"
      ]
     },
     "execution_count": 32,
     "metadata": {},
     "output_type": "execute_result"
    }
   ],
   "execution_count": 32
  },
  {
   "metadata": {
    "ExecuteTime": {
     "end_time": "2025-09-09T11:58:21.294054Z",
     "start_time": "2025-09-09T11:58:21.285464Z"
    }
   },
   "cell_type": "code",
   "source": "s.endswith('m')",
   "id": "392820ce8be78a43",
   "outputs": [
    {
     "data": {
      "text/plain": [
       "True"
      ]
     },
     "execution_count": 33,
     "metadata": {},
     "output_type": "execute_result"
    }
   ],
   "execution_count": 33
  },
  {
   "metadata": {
    "ExecuteTime": {
     "end_time": "2025-09-09T12:00:08.052187Z",
     "start_time": "2025-09-09T12:00:08.044253Z"
    }
   },
   "cell_type": "code",
   "source": "s.find('Satyam')",
   "id": "7e78e6f4cce8d9c",
   "outputs": [
    {
     "data": {
      "text/plain": [
       "18"
      ]
     },
     "execution_count": 43,
     "metadata": {},
     "output_type": "execute_result"
    }
   ],
   "execution_count": 43
  },
  {
   "metadata": {
    "ExecuteTime": {
     "end_time": "2025-09-09T12:00:12.187529Z",
     "start_time": "2025-09-09T12:00:12.177877Z"
    }
   },
   "cell_type": "code",
   "source": "id(s)",
   "id": "115efd373088cef1",
   "outputs": [
    {
     "data": {
      "text/plain": [
       "140310677698992"
      ]
     },
     "execution_count": 44,
     "metadata": {},
     "output_type": "execute_result"
    }
   ],
   "execution_count": 44
  },
  {
   "metadata": {
    "ExecuteTime": {
     "end_time": "2025-09-09T12:05:32.008456Z",
     "start_time": "2025-09-09T12:05:32.001361Z"
    }
   },
   "cell_type": "code",
   "source": [
    "p = s.replace('a','@')\n",
    "print(id(s))\n",
    "print(id(p))\n"
   ],
   "id": "42544d6348c696e5",
   "outputs": [
    {
     "name": "stdout",
     "output_type": "stream",
     "text": [
      "140310677698992\n",
      "140310677793696\n"
     ]
    }
   ],
   "execution_count": 57
  },
  {
   "metadata": {
    "ExecuteTime": {
     "end_time": "2025-09-09T12:06:03.505763Z",
     "start_time": "2025-09-09T12:06:03.497806Z"
    }
   },
   "cell_type": "code",
   "source": [
    "num_str = '2335151'\n",
    "num_str.isnumeric()"
   ],
   "id": "a27696fb8213e31e",
   "outputs": [
    {
     "data": {
      "text/plain": [
       "True"
      ]
     },
     "execution_count": 58,
     "metadata": {},
     "output_type": "execute_result"
    }
   ],
   "execution_count": 58
  },
  {
   "metadata": {
    "ExecuteTime": {
     "end_time": "2025-09-09T12:06:35.238497Z",
     "start_time": "2025-09-09T12:06:35.230188Z"
    }
   },
   "cell_type": "code",
   "source": [
    "num_str2 = 'asafsa'\n",
    "num_str2.isalpha()"
   ],
   "id": "ac27186f566bfb2",
   "outputs": [
    {
     "data": {
      "text/plain": [
       "True"
      ]
     },
     "execution_count": 59,
     "metadata": {},
     "output_type": "execute_result"
    }
   ],
   "execution_count": 59
  },
  {
   "metadata": {
    "ExecuteTime": {
     "end_time": "2025-09-09T12:06:50.240965Z",
     "start_time": "2025-09-09T12:06:50.232527Z"
    }
   },
   "cell_type": "code",
   "source": [
    "num_str2 = 'asafsa'\n",
    "num_str2.isnumeric()"
   ],
   "id": "7a73cf1f6d5f39a1",
   "outputs": [
    {
     "data": {
      "text/plain": [
       "False"
      ]
     },
     "execution_count": 61,
     "metadata": {},
     "output_type": "execute_result"
    }
   ],
   "execution_count": 61
  },
  {
   "metadata": {
    "ExecuteTime": {
     "end_time": "2025-09-09T12:07:30.247181Z",
     "start_time": "2025-09-09T12:07:30.239085Z"
    }
   },
   "cell_type": "code",
   "source": "num_str2.isalnum()",
   "id": "6c41ca6d4244ab59",
   "outputs": [
    {
     "data": {
      "text/plain": [
       "True"
      ]
     },
     "execution_count": 64,
     "metadata": {},
     "output_type": "execute_result"
    }
   ],
   "execution_count": 64
  },
  {
   "metadata": {
    "ExecuteTime": {
     "end_time": "2025-09-09T12:08:01.614082Z",
     "start_time": "2025-09-09T12:08:01.605496Z"
    }
   },
   "cell_type": "code",
   "source": "num_str.isspace()",
   "id": "c9a2007a94ea0455",
   "outputs": [
    {
     "data": {
      "text/plain": [
       "False"
      ]
     },
     "execution_count": 65,
     "metadata": {},
     "output_type": "execute_result"
    }
   ],
   "execution_count": 65
  },
  {
   "metadata": {
    "ExecuteTime": {
     "end_time": "2025-09-09T12:09:19.647368Z",
     "start_time": "2025-09-09T12:09:19.639065Z"
    }
   },
   "cell_type": "code",
   "source": [
    "num_str= \"      \"\n",
    "num_str.isspace()"
   ],
   "id": "c1dbb0bf5440594e",
   "outputs": [
    {
     "data": {
      "text/plain": [
       "True"
      ]
     },
     "execution_count": 73,
     "metadata": {},
     "output_type": "execute_result"
    }
   ],
   "execution_count": 73
  },
  {
   "metadata": {
    "ExecuteTime": {
     "end_time": "2025-09-09T12:12:17.636245Z",
     "start_time": "2025-09-09T12:12:17.627860Z"
    }
   },
   "cell_type": "code",
   "source": "s.title()",
   "id": "ba34cd409e89514",
   "outputs": [
    {
     "data": {
      "text/plain": [
       "'Hello! My Name Is Satyam'"
      ]
     },
     "execution_count": 74,
     "metadata": {},
     "output_type": "execute_result"
    }
   ],
   "execution_count": 74
  },
  {
   "metadata": {
    "ExecuteTime": {
     "end_time": "2025-09-09T12:18:21.722248Z",
     "start_time": "2025-09-09T12:18:21.715159Z"
    }
   },
   "cell_type": "code",
   "source": [
    "str1 = \"hello! life has different Flavours\"\n",
    "str2 = 'H' + str1[1:]\n",
    "print(str2)\n",
    "\n"
   ],
   "id": "455057cbc5316688",
   "outputs": [
    {
     "name": "stdout",
     "output_type": "stream",
     "text": [
      "Hello! life has different Flavours\n"
     ]
    }
   ],
   "execution_count": 76
  },
  {
   "metadata": {
    "ExecuteTime": {
     "end_time": "2025-09-09T12:26:25.769607Z",
     "start_time": "2025-09-09T12:26:25.760216Z"
    }
   },
   "cell_type": "code",
   "source": [
    "l = s.split()\n",
    "l"
   ],
   "id": "a91e2491ed83c57c",
   "outputs": [
    {
     "data": {
      "text/plain": [
       "['Hello!', 'my', 'name', 'is', 'Satyam']"
      ]
     },
     "execution_count": 88,
     "metadata": {},
     "output_type": "execute_result"
    }
   ],
   "execution_count": 88
  },
  {
   "metadata": {
    "ExecuteTime": {
     "end_time": "2025-09-09T12:22:18.254104Z",
     "start_time": "2025-09-09T12:22:18.248745Z"
    }
   },
   "cell_type": "code",
   "source": "sp = \" \".join(l)",
   "id": "9db6091914f12a6d",
   "outputs": [],
   "execution_count": 84
  },
  {
   "metadata": {
    "ExecuteTime": {
     "end_time": "2025-09-09T12:22:22.859469Z",
     "start_time": "2025-09-09T12:22:22.851655Z"
    }
   },
   "cell_type": "code",
   "source": "sp\n",
   "id": "b83e27960c145ac0",
   "outputs": [
    {
     "data": {
      "text/plain": [
       "'Hello! my name is Satyam'"
      ]
     },
     "execution_count": 85,
     "metadata": {},
     "output_type": "execute_result"
    }
   ],
   "execution_count": 85
  },
  {
   "metadata": {
    "ExecuteTime": {
     "end_time": "2025-09-09T12:48:53.809706Z",
     "start_time": "2025-09-09T12:48:53.801442Z"
    }
   },
   "cell_type": "code",
   "source": [
    "name = \"Shivam\"\n",
    "swapped = []\n",
    "for char in name:\n",
    "    if char.isupper():\n",
    "        swapped.append(char.lower())\n",
    "    else:\n",
    "        swapped.append(char.upper())\n",
    "\n",
    "swapped_name = \"\".join(swapped )\n",
    "print(swapped_name)"
   ],
   "id": "5ebd464c35fc0290",
   "outputs": [
    {
     "name": "stdout",
     "output_type": "stream",
     "text": [
      "sHIVAM\n"
     ]
    }
   ],
   "execution_count": 98
  },
  {
   "metadata": {},
   "cell_type": "code",
   "outputs": [],
   "execution_count": null,
   "source": "",
   "id": "9ac5d5fd0fa1cfb0"
  }
 ],
 "metadata": {
  "kernelspec": {
   "display_name": "Python 3",
   "language": "python",
   "name": "python3"
  },
  "language_info": {
   "codemirror_mode": {
    "name": "ipython",
    "version": 2
   },
   "file_extension": ".py",
   "mimetype": "text/x-python",
   "name": "python",
   "nbconvert_exporter": "python",
   "pygments_lexer": "ipython2",
   "version": "2.7.6"
  }
 },
 "nbformat": 4,
 "nbformat_minor": 5
}
