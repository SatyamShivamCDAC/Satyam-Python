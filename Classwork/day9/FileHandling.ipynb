{
 "cells": [
  {
   "metadata": {
    "collapsed": true
   },
   "cell_type": "markdown",
   "source": "<h1>File Handling</h1>",
   "id": "69d63bd882852877"
  },
  {
   "metadata": {
    "ExecuteTime": {
     "end_time": "2025-09-19T10:43:21.342490Z",
     "start_time": "2025-09-19T10:43:21.335881Z"
    }
   },
   "cell_type": "code",
   "source": [
    "#creating file\n",
    "f = open(\"abc.txt\",'w')\n",
    "f.close()"
   ],
   "id": "44eec2527d51fd37",
   "outputs": [],
   "execution_count": 3
  },
  {
   "metadata": {
    "ExecuteTime": {
     "end_time": "2025-09-19T10:48:42.087165Z",
     "start_time": "2025-09-19T10:48:42.080478Z"
    }
   },
   "cell_type": "code",
   "source": [
    "#writing in file\n",
    "f = open(\"abc.txt\",'w')\n",
    "f.write(\"This is my first file\\n\")\n",
    "f.close()"
   ],
   "id": "aa9744c498543bce",
   "outputs": [],
   "execution_count": 9
  },
  {
   "metadata": {
    "ExecuteTime": {
     "end_time": "2025-09-19T10:48:43.392473Z",
     "start_time": "2025-09-19T10:48:43.383506Z"
    }
   },
   "cell_type": "code",
   "source": [
    "#Reading from file\n",
    "f = open(\"abc.txt\",'r')\n",
    "data = f.read() #after reading first line pointer moves to eol\n",
    "print(data)\n",
    "f.seek(0) #shift pointer to index zero that is starting of file\n",
    "print(f.read())\n"
   ],
   "id": "2bd06a13466fbf46",
   "outputs": [
    {
     "name": "stdout",
     "output_type": "stream",
     "text": [
      "This is my first file\n",
      "\n",
      "This is my first file\n",
      "\n"
     ]
    }
   ],
   "execution_count": 10
  },
  {
   "metadata": {
    "ExecuteTime": {
     "end_time": "2025-09-19T10:51:41.881750Z",
     "start_time": "2025-09-19T10:51:41.875375Z"
    }
   },
   "cell_type": "code",
   "source": [
    "#appending to file\n",
    "f = open(\"abc.txt\",'a')\n",
    "f.write(\"This is second line\\n\")\n",
    "f.close()\n"
   ],
   "id": "d6677697ba2db7ba",
   "outputs": [],
   "execution_count": 15
  },
  {
   "metadata": {},
   "cell_type": "code",
   "outputs": [],
   "execution_count": null,
   "source": "",
   "id": "357b7ee845ae7af9"
  }
 ],
 "metadata": {
  "kernelspec": {
   "display_name": "Python 3",
   "language": "python",
   "name": "python3"
  },
  "language_info": {
   "codemirror_mode": {
    "name": "ipython",
    "version": 2
   },
   "file_extension": ".py",
   "mimetype": "text/x-python",
   "name": "python",
   "nbconvert_exporter": "python",
   "pygments_lexer": "ipython2",
   "version": "2.7.6"
  }
 },
 "nbformat": 4,
 "nbformat_minor": 5
}
