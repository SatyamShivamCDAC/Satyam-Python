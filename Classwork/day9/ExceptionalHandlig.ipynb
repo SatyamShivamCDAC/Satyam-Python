{
 "cells": [
  {
   "metadata": {
    "collapsed": true
   },
   "cell_type": "markdown",
   "source": "<h1>Exceptional Handling</h1>",
   "id": "7bca2ac3b53387a5"
  },
  {
   "metadata": {},
   "cell_type": "markdown",
   "source": "<h3>manual exceptional handling</h3>",
   "id": "a1ea7977f8f17dd8"
  },
  {
   "metadata": {
    "ExecuteTime": {
     "end_time": "2025-09-19T08:44:33.991181Z",
     "start_time": "2025-09-19T08:44:18.845575Z"
    }
   },
   "cell_type": "code",
   "source": [
    "def div(a,b):\n",
    "    if(b==0):\n",
    "        return \"denomerator cant be zero\"\n",
    "    return a/b\n",
    "\n",
    "while(True):\n",
    "    a = int(input('Numerator : '))\n",
    "    b = int(input('Denomerator : '))\n",
    "\n",
    "    print(div(a,b))\n",
    "\n",
    "    c = int(input('Press 1 to continue and 0 to exit'))\n",
    "    if(c == 0):\n",
    "        break\n"
   ],
   "id": "ffb4093a26b5d0f2",
   "outputs": [
    {
     "name": "stdout",
     "output_type": "stream",
     "text": [
      "0.6666666666666666\n"
     ]
    }
   ],
   "execution_count": 2
  },
  {
   "metadata": {
    "ExecuteTime": {
     "end_time": "2025-09-19T08:48:07.638719Z",
     "start_time": "2025-09-19T08:47:57.458989Z"
    }
   },
   "cell_type": "code",
   "source": "",
   "id": "54862e5dbe869b6f",
   "outputs": [
    {
     "name": "stdout",
     "output_type": "stream",
     "text": [
      "Lenght of array is 7\n",
      "1\n"
     ]
    }
   ],
   "execution_count": 3
  },
  {
   "metadata": {},
   "cell_type": "markdown",
   "source": "<h3>Built in Exceptional Handling(Try/Except/Finally)</h3>",
   "id": "bd3f39e2a907443"
  },
  {
   "metadata": {
    "ExecuteTime": {
     "end_time": "2025-09-19T08:56:17.830671Z",
     "start_time": "2025-09-19T08:55:44.738203Z"
    }
   },
   "cell_type": "code",
   "source": [
    "#Zero Division Error\n",
    "\n",
    "def div(a,b):\n",
    "    try:\n",
    "        return a/b\n",
    "    except:\n",
    "        return \"ZeroDivision Error :  Denomerator can't be zero\"\n",
    "\n",
    "while(True):\n",
    "    a = int(input('Numerator : '))\n",
    "    b = int(input('Denomerator : '))\n",
    "\n",
    "    print(div(a,b))\n",
    "\n",
    "    c = int(input('Press 1 to continue and 0 to exit'))\n",
    "    if(c == 0):\n",
    "        break"
   ],
   "id": "d83a928828d2100b",
   "outputs": [
    {
     "name": "stdout",
     "output_type": "stream",
     "text": [
      "0.8\n",
      "Denomerator can't be zero\n"
     ]
    }
   ],
   "execution_count": 4
  },
  {
   "metadata": {
    "ExecuteTime": {
     "end_time": "2025-09-19T08:59:09.429995Z",
     "start_time": "2025-09-19T08:59:03.492221Z"
    }
   },
   "cell_type": "code",
   "source": [
    "#Index Error\n",
    "while(True):\n",
    "    arr = [1,2,3,4,5,6,7]\n",
    "\n",
    "    index = int(input(\"write an index of array to be accessed : \"))\n",
    "    try:\n",
    "        print(arr[index])\n",
    "    except:\n",
    "        print(\"Index Error : index out of bound\")\n",
    "\n",
    "    c = int(input('Press 1 to continue and 0 to exit : '))\n",
    "    if (c == 0):\n",
    "        break"
   ],
   "id": "4ef7d3a03af32575",
   "outputs": [
    {
     "name": "stdout",
     "output_type": "stream",
     "text": [
      "Index Error : index out of bound\n"
     ]
    }
   ],
   "execution_count": 7
  },
  {
   "metadata": {
    "ExecuteTime": {
     "end_time": "2025-09-19T09:17:06.999011Z",
     "start_time": "2025-09-19T09:16:57.288914Z"
    }
   },
   "cell_type": "code",
   "source": [
    "#Key Error\n",
    "\n",
    "dict1 = {20 : \"Piyush\", 28 : \"Satyam\", 31 : \"Shivam\",  38 : \"Umang\"}\n",
    "\n",
    "while(True):\n",
    "    pnr = int(input(\"Student' PNR : \"))\n",
    "    try:\n",
    "        print(dict1[pnr])\n",
    "    except:\n",
    "        print(\"Key Error : key doesn't Exist\")\n",
    "    finally:\n",
    "        c = int(input(\"Enter 1 to contiue and 0 to exit : \"))\n",
    "        if c==0:\n",
    "            break"
   ],
   "id": "75489da353ebe908",
   "outputs": [
    {
     "name": "stdout",
     "output_type": "stream",
     "text": [
      "Key Error : key doesn't Exist\n"
     ]
    }
   ],
   "execution_count": 11
  },
  {
   "metadata": {
    "ExecuteTime": {
     "end_time": "2025-09-19T09:20:12.500811Z",
     "start_time": "2025-09-19T09:20:08.613965Z"
    }
   },
   "cell_type": "code",
   "source": [
    "#Raise Exception\n",
    "\n",
    "num = int(input(\"Write a Even Number : \"))\n",
    "if(num%2 != 0):\n",
    "    raise Exception(\"Exception : Number is not even\")\n",
    "else:\n",
    "    print(\"Your number is : \",num)"
   ],
   "id": "4bbdf2b7326d0cf2",
   "outputs": [
    {
     "ename": "Exception",
     "evalue": "Exception : Number is not even",
     "output_type": "error",
     "traceback": [
      "\u001B[31m---------------------------------------------------------------------------\u001B[39m",
      "\u001B[31mException\u001B[39m                                 Traceback (most recent call last)",
      "\u001B[36mCell\u001B[39m\u001B[36m \u001B[39m\u001B[32mIn[14]\u001B[39m\u001B[32m, line 5\u001B[39m\n\u001B[32m      3\u001B[39m num = \u001B[38;5;28mint\u001B[39m(\u001B[38;5;28minput\u001B[39m(\u001B[33m\"\u001B[39m\u001B[33mWrite a Even Number : \u001B[39m\u001B[33m\"\u001B[39m))\n\u001B[32m      4\u001B[39m \u001B[38;5;28;01mif\u001B[39;00m(num%\u001B[32m2\u001B[39m != \u001B[32m0\u001B[39m):\n\u001B[32m----> \u001B[39m\u001B[32m5\u001B[39m     \u001B[38;5;28;01mraise\u001B[39;00m \u001B[38;5;167;01mException\u001B[39;00m(\u001B[33m\"\u001B[39m\u001B[33mException : Number is not even\u001B[39m\u001B[33m\"\u001B[39m)\n\u001B[32m      6\u001B[39m \u001B[38;5;28;01melse\u001B[39;00m:\n\u001B[32m      7\u001B[39m     \u001B[38;5;28mprint\u001B[39m(\u001B[33m\"\u001B[39m\u001B[33mYour number is : \u001B[39m\u001B[33m\"\u001B[39m,num)\n",
      "\u001B[31mException\u001B[39m: Exception : Number is not even"
     ]
    }
   ],
   "execution_count": 14
  },
  {
   "metadata": {
    "ExecuteTime": {
     "end_time": "2025-09-19T09:22:37.221703Z",
     "start_time": "2025-09-19T09:22:37.216558Z"
    }
   },
   "cell_type": "code",
   "source": "from my_exception import MyException\n",
   "id": "57a52ac3efbd0373",
   "outputs": [],
   "execution_count": 16
  },
  {
   "metadata": {
    "ExecuteTime": {
     "end_time": "2025-09-19T09:24:19.639266Z",
     "start_time": "2025-09-19T09:24:15.741554Z"
    }
   },
   "cell_type": "code",
   "source": [
    "a = int(input(\"Number : \"))\n",
    "if a > 10:\n",
    "    raise MyException\n",
    "print(\"Your number is \", a)"
   ],
   "id": "c407550ffe74a215",
   "outputs": [
    {
     "ename": "MyException",
     "evalue": "This is custrom exception",
     "output_type": "error",
     "traceback": [
      "\u001B[31m---------------------------------------------------------------------------\u001B[39m",
      "\u001B[31mMyException\u001B[39m                               Traceback (most recent call last)",
      "\u001B[36mCell\u001B[39m\u001B[36m \u001B[39m\u001B[32mIn[18]\u001B[39m\u001B[32m, line 3\u001B[39m\n\u001B[32m      1\u001B[39m a = \u001B[38;5;28mint\u001B[39m(\u001B[38;5;28minput\u001B[39m(\u001B[33m\"\u001B[39m\u001B[33mNumber : \u001B[39m\u001B[33m\"\u001B[39m))\n\u001B[32m      2\u001B[39m \u001B[38;5;28;01mif\u001B[39;00m a > \u001B[32m10\u001B[39m:\n\u001B[32m----> \u001B[39m\u001B[32m3\u001B[39m     \u001B[38;5;28;01mraise\u001B[39;00m MyException\n\u001B[32m      4\u001B[39m \u001B[38;5;28mprint\u001B[39m(\u001B[33m\"\u001B[39m\u001B[33mYour number is \u001B[39m\u001B[33m\"\u001B[39m, a)\n",
      "\u001B[31mMyException\u001B[39m: This is custrom exception"
     ]
    }
   ],
   "execution_count": 18
  },
  {
   "metadata": {},
   "cell_type": "code",
   "outputs": [],
   "execution_count": null,
   "source": "",
   "id": "396f7117e7f8e49e"
  }
 ],
 "metadata": {
  "kernelspec": {
   "display_name": "Python 3",
   "language": "python",
   "name": "python3"
  },
  "language_info": {
   "codemirror_mode": {
    "name": "ipython",
    "version": 2
   },
   "file_extension": ".py",
   "mimetype": "text/x-python",
   "name": "python",
   "nbconvert_exporter": "python",
   "pygments_lexer": "ipython2",
   "version": "2.7.6"
  }
 },
 "nbformat": 4,
 "nbformat_minor": 5
}
