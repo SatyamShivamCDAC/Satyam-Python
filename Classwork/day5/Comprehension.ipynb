{
 "cells": [
  {
   "metadata": {
    "collapsed": true
   },
   "cell_type": "markdown",
   "source": "<h1>COMPREHENSION</h1>\n",
   "id": "3cf6f907b9e2d15e"
  },
  {
   "metadata": {
    "ExecuteTime": {
     "end_time": "2025-09-13T08:22:02.069658Z",
     "start_time": "2025-09-13T08:22:02.060665Z"
    }
   },
   "cell_type": "code",
   "source": [
    "l = [i for i in range(11)]\n",
    "print(l)"
   ],
   "id": "c7e3e75d69d83420",
   "outputs": [
    {
     "name": "stdout",
     "output_type": "stream",
     "text": [
      "[0, 1, 2, 3, 4, 5, 6, 7, 8, 9, 10]\n"
     ]
    }
   ],
   "execution_count": 1
  },
  {
   "metadata": {
    "ExecuteTime": {
     "end_time": "2025-09-13T08:22:37.781762Z",
     "start_time": "2025-09-13T08:22:37.774413Z"
    }
   },
   "cell_type": "code",
   "source": [
    "l = {i for i in range(11)}\n",
    "print(l)"
   ],
   "id": "2744f78222848937",
   "outputs": [
    {
     "name": "stdout",
     "output_type": "stream",
     "text": [
      "{0, 1, 2, 3, 4, 5, 6, 7, 8, 9, 10}\n"
     ]
    }
   ],
   "execution_count": 3
  },
  {
   "metadata": {
    "ExecuteTime": {
     "end_time": "2025-09-13T08:25:00.887555Z",
     "start_time": "2025-09-13T08:25:00.879505Z"
    }
   },
   "cell_type": "code",
   "source": [
    "fun1 = lambda x : True if x%2 == 0 else False\n",
    "ls = [i for i in l if fun1(i)]\n",
    "print(ls)"
   ],
   "id": "dec3cff355857eaa",
   "outputs": [
    {
     "name": "stdout",
     "output_type": "stream",
     "text": [
      "[0, 2, 4, 6, 8, 10]\n"
     ]
    }
   ],
   "execution_count": 4
  },
  {
   "metadata": {
    "ExecuteTime": {
     "end_time": "2025-09-13T08:27:15.600776Z",
     "start_time": "2025-09-13T08:27:15.593203Z"
    }
   },
   "cell_type": "code",
   "source": [
    "fun2 = lambda x : x**2\n",
    "ls = [fun2(i) for i in l]\n",
    "print(ls)"
   ],
   "id": "10f9e97d6c18c89",
   "outputs": [
    {
     "name": "stdout",
     "output_type": "stream",
     "text": [
      "[0, 1, 4, 9, 16, 25, 36, 49, 64, 81, 100]\n"
     ]
    }
   ],
   "execution_count": 5
  },
  {
   "metadata": {
    "ExecuteTime": {
     "end_time": "2025-09-13T08:40:40.177129Z",
     "start_time": "2025-09-13T08:40:40.166713Z"
    }
   },
   "cell_type": "code",
   "source": [
    "def fac(x):\n",
    "    pro = 1\n",
    "    for i in range(1,x+1):\n",
    "        pro = pro*i\n",
    "    return pro\n",
    "\n",
    "fac_list = [fac(i) for i in range(1,11)]\n",
    "print(fac_list)"
   ],
   "id": "647228d7e008018d",
   "outputs": [
    {
     "name": "stdout",
     "output_type": "stream",
     "text": [
      "[1, 2, 6, 24, 120, 720, 5040, 40320, 362880, 3628800]\n"
     ]
    }
   ],
   "execution_count": 7
  },
  {
   "metadata": {
    "ExecuteTime": {
     "end_time": "2025-09-13T08:44:41.222552Z",
     "start_time": "2025-09-13T08:44:41.212680Z"
    }
   },
   "cell_type": "code",
   "source": [
    "def is_prime(x):\n",
    "    for i in range(2,x//2 + 1):\n",
    "        if x % i == 0:\n",
    "            return False\n",
    "    return True\n",
    "\n",
    "prime_list = [i for i in range(2,101) if is_prime(i)]\n",
    "print(prime_list)"
   ],
   "id": "2e5ce89d90abf3db",
   "outputs": [
    {
     "name": "stdout",
     "output_type": "stream",
     "text": [
      "[2, 3, 5, 7, 11, 13, 17, 19, 23, 29, 31, 37, 41, 43, 47, 53, 59, 61, 67, 71, 73, 79, 83, 89, 97]\n"
     ]
    }
   ],
   "execution_count": 13
  },
  {
   "metadata": {
    "ExecuteTime": {
     "end_time": "2025-09-13T08:51:48.762548Z",
     "start_time": "2025-09-13T08:51:48.754858Z"
    }
   },
   "cell_type": "code",
   "source": [
    "even_odd = [i for i in range(1,101)]\n",
    "\n",
    "def even_oddc(x):\n",
    "    if x < 51:\n",
    "        if x%2==0:\n",
    "            return True\n",
    "        else: return False\n",
    "    if x > 50:\n",
    "        if x%2!=0:\n",
    "            return True\n",
    "        else: return False\n"
   ],
   "id": "ecb75ced28599bf2",
   "outputs": [],
   "execution_count": 14
  },
  {
   "metadata": {
    "ExecuteTime": {
     "end_time": "2025-09-13T08:55:53.235446Z",
     "start_time": "2025-09-13T08:55:53.226759Z"
    }
   },
   "cell_type": "code",
   "source": [
    "even_odd = [x for x in range(1,101) if even_oddc(x)]\n",
    "print(even_odd)"
   ],
   "id": "3228902bc320747f",
   "outputs": [
    {
     "name": "stdout",
     "output_type": "stream",
     "text": [
      "[2, 4, 6, 8, 10, 12, 14, 16, 18, 20, 22, 24, 26, 28, 30, 32, 34, 36, 38, 40, 42, 44, 46, 48, 50, 51, 53, 55, 57, 59, 61, 63, 65, 67, 69, 71, 73, 75, 77, 79, 81, 83, 85, 87, 89, 91, 93, 95, 97, 99]\n"
     ]
    }
   ],
   "execution_count": 17
  },
  {
   "metadata": {
    "ExecuteTime": {
     "end_time": "2025-09-13T09:27:35.073370Z",
     "start_time": "2025-09-13T09:27:35.065372Z"
    }
   },
   "cell_type": "code",
   "source": [
    "#List Comprehension\n",
    "\n",
    "l = [a for a in range(1,11)]\n",
    "print(l)\n",
    "print(type(l))"
   ],
   "id": "fbc552d0537ea7b4",
   "outputs": [
    {
     "name": "stdout",
     "output_type": "stream",
     "text": [
      "[1, 2, 3, 4, 5, 6, 7, 8, 9, 10]\n",
      "<class 'list'>\n"
     ]
    }
   ],
   "execution_count": 20
  },
  {
   "metadata": {
    "ExecuteTime": {
     "end_time": "2025-09-13T09:27:36.063167Z",
     "start_time": "2025-09-13T09:27:36.055266Z"
    }
   },
   "cell_type": "code",
   "source": [
    "#Set Comprehension\n",
    "\n",
    "s = {a for a in range(1,11)}\n",
    "print(s)\n",
    "print(type(s))"
   ],
   "id": "a9975cabda34922e",
   "outputs": [
    {
     "name": "stdout",
     "output_type": "stream",
     "text": [
      "{1, 2, 3, 4, 5, 6, 7, 8, 9, 10}\n",
      "<class 'set'>\n"
     ]
    }
   ],
   "execution_count": 21
  },
  {
   "metadata": {
    "ExecuteTime": {
     "end_time": "2025-09-13T09:28:26.222664Z",
     "start_time": "2025-09-13T09:28:26.214988Z"
    }
   },
   "cell_type": "code",
   "source": [
    "#Dictionary Comprehension\n",
    "\n",
    "d = {a:a*2 for a in range(6)}\n",
    "print(d)\n",
    "print(type(d))"
   ],
   "id": "59bb9b8ac4c0ffbc",
   "outputs": [
    {
     "name": "stdout",
     "output_type": "stream",
     "text": [
      "{0: 0, 1: 2, 2: 4, 3: 6, 4: 8, 5: 10}\n",
      "<class 'dict'>\n"
     ]
    }
   ],
   "execution_count": 22
  },
  {
   "metadata": {
    "ExecuteTime": {
     "end_time": "2025-09-13T09:29:58.648447Z",
     "start_time": "2025-09-13T09:29:58.639264Z"
    }
   },
   "cell_type": "code",
   "source": [
    "#Generator Comprehension\n",
    "\n",
    "g = (a for a in range(6))\n",
    "for i in g:\n",
    "    print(i)"
   ],
   "id": "65c6f88ffaa970a6",
   "outputs": [
    {
     "name": "stdout",
     "output_type": "stream",
     "text": [
      "0\n",
      "1\n",
      "2\n",
      "3\n",
      "4\n",
      "5\n"
     ]
    }
   ],
   "execution_count": 24
  },
  {
   "metadata": {},
   "cell_type": "code",
   "outputs": [],
   "execution_count": null,
   "source": "",
   "id": "86a21b43b898cf0f"
  }
 ],
 "metadata": {
  "kernelspec": {
   "display_name": "Python 3",
   "language": "python",
   "name": "python3"
  },
  "language_info": {
   "codemirror_mode": {
    "name": "ipython",
    "version": 2
   },
   "file_extension": ".py",
   "mimetype": "text/x-python",
   "name": "python",
   "nbconvert_exporter": "python",
   "pygments_lexer": "ipython2",
   "version": "2.7.6"
  }
 },
 "nbformat": 4,
 "nbformat_minor": 5
}
