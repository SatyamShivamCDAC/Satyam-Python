{
 "cells": [
  {
   "metadata": {
    "collapsed": true
   },
   "cell_type": "markdown",
   "source": "<h1>Iterator</h1>",
   "id": "ac8425c68a417bcf"
  },
  {
   "metadata": {
    "ExecuteTime": {
     "end_time": "2025-09-13T09:14:40.392013Z",
     "start_time": "2025-09-13T09:14:40.384220Z"
    }
   },
   "cell_type": "code",
   "source": [
    "arr = [10,20,30,40]\n",
    "itr_arr = iter(arr)\n",
    "\n",
    "print(next(itr_arr))\n",
    "print(next(itr_arr))\n",
    "print(next(itr_arr))\n",
    "print(next(itr_arr))"
   ],
   "id": "44cba3b0baa5a65a",
   "outputs": [
    {
     "name": "stdout",
     "output_type": "stream",
     "text": [
      "10\n",
      "20\n",
      "30\n",
      "40\n"
     ]
    }
   ],
   "execution_count": 4
  },
  {
   "metadata": {
    "ExecuteTime": {
     "end_time": "2025-09-13T09:17:41.119102Z",
     "start_time": "2025-09-13T09:17:41.111721Z"
    }
   },
   "cell_type": "code",
   "source": [
    "arr = [10,20,30,40]\n",
    "itr_arr = iter(arr)\n",
    "\n",
    "for i in itr_arr:\n",
    "    print(next(itr_arr))"
   ],
   "id": "a9a44cd129c8f42e",
   "outputs": [
    {
     "name": "stdout",
     "output_type": "stream",
     "text": [
      "20\n",
      "40\n"
     ]
    }
   ],
   "execution_count": 9
  },
  {
   "metadata": {
    "ExecuteTime": {
     "end_time": "2025-09-13T09:18:26.732304Z",
     "start_time": "2025-09-13T09:18:26.723425Z"
    }
   },
   "cell_type": "markdown",
   "source": "<h1>GENERATOR</h1>\n",
   "id": "ec74bb6959033972"
  },
  {
   "metadata": {
    "ExecuteTime": {
     "end_time": "2025-09-13T09:21:45.987814Z",
     "start_time": "2025-09-13T09:21:45.981171Z"
    }
   },
   "cell_type": "code",
   "source": "gen1 = (i for i in range(1,10))",
   "id": "b59e52a1198e64a0",
   "outputs": [],
   "execution_count": 16
  },
  {
   "metadata": {
    "ExecuteTime": {
     "end_time": "2025-09-13T09:21:49.204444Z",
     "start_time": "2025-09-13T09:21:49.196510Z"
    }
   },
   "cell_type": "code",
   "source": [
    "for i in gen1:\n",
    "    print(i)"
   ],
   "id": "7427500899a18a98",
   "outputs": [
    {
     "name": "stdout",
     "output_type": "stream",
     "text": [
      "1\n",
      "2\n",
      "3\n",
      "4\n",
      "5\n",
      "6\n",
      "7\n",
      "8\n",
      "9\n"
     ]
    }
   ],
   "execution_count": 17
  },
  {
   "metadata": {
    "ExecuteTime": {
     "end_time": "2025-09-13T09:26:18.974897Z",
     "start_time": "2025-09-13T09:26:18.966553Z"
    }
   },
   "cell_type": "code",
   "source": [
    "def gen2():\n",
    "    yield 1\n",
    "    yield 2\n",
    "    yield 3\n",
    "\n",
    "result = gen2()\n",
    "for i in range(3):\n",
    "    print(next(result))\n"
   ],
   "id": "60f08366dd2f28bf",
   "outputs": [
    {
     "name": "stdout",
     "output_type": "stream",
     "text": [
      "1\n",
      "2\n",
      "3\n"
     ]
    }
   ],
   "execution_count": 24
  },
  {
   "metadata": {},
   "cell_type": "code",
   "outputs": [],
   "execution_count": null,
   "source": "even_gen =",
   "id": "d6a9a8ae54fc359c"
  }
 ],
 "metadata": {
  "kernelspec": {
   "display_name": "Python 3",
   "language": "python",
   "name": "python3"
  },
  "language_info": {
   "codemirror_mode": {
    "name": "ipython",
    "version": 2
   },
   "file_extension": ".py",
   "mimetype": "text/x-python",
   "name": "python",
   "nbconvert_exporter": "python",
   "pygments_lexer": "ipython2",
   "version": "2.7.6"
  }
 },
 "nbformat": 4,
 "nbformat_minor": 5
}
