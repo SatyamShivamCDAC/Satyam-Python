{
 "cells": [
  {
   "cell_type": "code",
   "execution_count": null,
   "id": "initial_id",
   "metadata": {
    "collapsed": true
   },
   "outputs": [],
   "source": ""
  },
  {
   "metadata": {},
   "cell_type": "markdown",
   "source": [
    "<h>Dictionary\n",
    "</h>"
   ],
   "id": "50640b1f0040241c"
  },
  {
   "metadata": {
    "ExecuteTime": {
     "end_time": "2025-09-10T05:22:57.628970Z",
     "start_time": "2025-09-10T05:22:57.621949Z"
    }
   },
   "cell_type": "code",
   "source": "dict1 = {101: \"Satyam\",102:\"Shivam\",103:\"Piyush\"}",
   "id": "3f1aad570629303e",
   "outputs": [],
   "execution_count": 1
  },
  {
   "metadata": {
    "ExecuteTime": {
     "end_time": "2025-09-10T05:24:20.206007Z",
     "start_time": "2025-09-10T05:24:20.198588Z"
    }
   },
   "cell_type": "code",
   "source": [
    "for student in dict1:\n",
    "    print(f\"{student} : {dict1[student]}\")"
   ],
   "id": "680fb64c081bf1a3",
   "outputs": [
    {
     "name": "stdout",
     "output_type": "stream",
     "text": [
      "101 : Satyam\n",
      "102 : Shivam\n",
      "103 : Piyush\n"
     ]
    }
   ],
   "execution_count": 2
  },
  {
   "metadata": {
    "ExecuteTime": {
     "end_time": "2025-09-10T05:25:15.442867Z",
     "start_time": "2025-09-10T05:25:15.436035Z"
    }
   },
   "cell_type": "code",
   "source": [
    "for name in dict1.values():\n",
    "    print(name)\n"
   ],
   "id": "8a95785c6aa51ef1",
   "outputs": [
    {
     "name": "stdout",
     "output_type": "stream",
     "text": [
      "Satyam\n",
      "Shivam\n",
      "Piyush\n"
     ]
    }
   ],
   "execution_count": 5
  },
  {
   "metadata": {
    "ExecuteTime": {
     "end_time": "2025-09-10T05:26:27.601896Z",
     "start_time": "2025-09-10T05:26:27.596256Z"
    }
   },
   "cell_type": "code",
   "source": [
    "dict2 = dict1.copy()\n",
    "dict3 = dict2"
   ],
   "id": "51145fe681e5bb5a",
   "outputs": [],
   "execution_count": 7
  },
  {
   "metadata": {
    "ExecuteTime": {
     "end_time": "2025-09-10T05:27:05.852740Z",
     "start_time": "2025-09-10T05:27:05.846456Z"
    }
   },
   "cell_type": "code",
   "source": "dict3[104] = \"Umang\"",
   "id": "7481be4ffc10a913",
   "outputs": [],
   "execution_count": 8
  },
  {
   "metadata": {
    "ExecuteTime": {
     "end_time": "2025-09-10T05:27:25.113511Z",
     "start_time": "2025-09-10T05:27:25.106697Z"
    }
   },
   "cell_type": "code",
   "source": "print(dict1)",
   "id": "b28fea59be87b6b",
   "outputs": [
    {
     "name": "stdout",
     "output_type": "stream",
     "text": [
      "{101: 'Satyam', 102: 'Shivam', 103: 'Piyush'}\n"
     ]
    }
   ],
   "execution_count": 11
  },
  {
   "metadata": {
    "ExecuteTime": {
     "end_time": "2025-09-10T05:28:03.361174Z",
     "start_time": "2025-09-10T05:28:03.354614Z"
    }
   },
   "cell_type": "code",
   "source": "print(dict2.get(104))",
   "id": "212db2def5f847b8",
   "outputs": [
    {
     "name": "stdout",
     "output_type": "stream",
     "text": [
      "Umang\n"
     ]
    }
   ],
   "execution_count": 16
  },
  {
   "metadata": {
    "ExecuteTime": {
     "end_time": "2025-09-10T05:28:18.213918Z",
     "start_time": "2025-09-10T05:28:18.197828Z"
    }
   },
   "cell_type": "code",
   "source": "dict1.items()",
   "id": "7a3d58ccc77b3d4",
   "outputs": [
    {
     "data": {
      "text/plain": [
       "dict_items([(101, 'Satyam'), (102, 'Shivam'), (103, 'Piyush')])"
      ]
     },
     "execution_count": 17,
     "metadata": {},
     "output_type": "execute_result"
    }
   ],
   "execution_count": 17
  },
  {
   "metadata": {
    "ExecuteTime": {
     "end_time": "2025-09-10T05:29:00.687340Z",
     "start_time": "2025-09-10T05:29:00.679035Z"
    }
   },
   "cell_type": "code",
   "source": [
    "for key, value in dict1.items():\n",
    "    print(key, '->', value)"
   ],
   "id": "fbe8c7672c4cea42",
   "outputs": [
    {
     "name": "stdout",
     "output_type": "stream",
     "text": [
      "101 -> Satyam\n",
      "102 -> Shivam\n",
      "103 -> Piyush\n"
     ]
    }
   ],
   "execution_count": 18
  },
  {
   "metadata": {
    "ExecuteTime": {
     "end_time": "2025-09-10T05:35:41.328274Z",
     "start_time": "2025-09-10T05:35:41.321215Z"
    }
   },
   "cell_type": "code",
   "source": [
    "dict1 = dict2.copy()\n",
    "print(dict2)"
   ],
   "id": "e9a5c2c9995c8489",
   "outputs": [
    {
     "name": "stdout",
     "output_type": "stream",
     "text": [
      "{101: 'Satyam', 102: 'Shivam', 103: 'Piyush', 104: 'Umang'}\n"
     ]
    }
   ],
   "execution_count": 19
  },
  {
   "metadata": {
    "ExecuteTime": {
     "end_time": "2025-09-10T05:36:09.778601Z",
     "start_time": "2025-09-10T05:36:09.769635Z"
    }
   },
   "cell_type": "code",
   "source": "dict2.pop(104)",
   "id": "e8d0e61d24232d23",
   "outputs": [
    {
     "data": {
      "text/plain": [
       "'Umang'"
      ]
     },
     "execution_count": 21,
     "metadata": {},
     "output_type": "execute_result"
    }
   ],
   "execution_count": 21
  },
  {
   "metadata": {
    "ExecuteTime": {
     "end_time": "2025-09-10T05:36:17.120107Z",
     "start_time": "2025-09-10T05:36:17.111629Z"
    }
   },
   "cell_type": "code",
   "source": "dict2.popitem()",
   "id": "5302c64c0a202187",
   "outputs": [
    {
     "data": {
      "text/plain": [
       "(103, 'Piyush')"
      ]
     },
     "execution_count": 22,
     "metadata": {},
     "output_type": "execute_result"
    }
   ],
   "execution_count": 22
  },
  {
   "metadata": {
    "ExecuteTime": {
     "end_time": "2025-09-10T05:37:09.504241Z",
     "start_time": "2025-09-10T05:37:09.495489Z"
    }
   },
   "cell_type": "code",
   "source": "dict2.pop(102)",
   "id": "650d3a86d280192a",
   "outputs": [
    {
     "data": {
      "text/plain": [
       "'Shivam'"
      ]
     },
     "execution_count": 23,
     "metadata": {},
     "output_type": "execute_result"
    }
   ],
   "execution_count": 23
  },
  {
   "metadata": {
    "ExecuteTime": {
     "end_time": "2025-09-10T05:38:38.216638Z",
     "start_time": "2025-09-10T05:38:38.210504Z"
    }
   },
   "cell_type": "code",
   "source": [
    "##fromkeys\n",
    "\n",
    "keys = [1,2,3,4,5,6,7]\n",
    "p = {}\n",
    "p = p.fromkeys(keys)"
   ],
   "id": "29f7c1b4631a7f49",
   "outputs": [],
   "execution_count": 26
  },
  {
   "metadata": {
    "ExecuteTime": {
     "end_time": "2025-09-10T05:38:42.444699Z",
     "start_time": "2025-09-10T05:38:42.435814Z"
    }
   },
   "cell_type": "code",
   "source": "p",
   "id": "ae8c5afc8938b3c8",
   "outputs": [
    {
     "data": {
      "text/plain": [
       "{1: None, 2: None, 3: None, 4: None, 5: None, 6: None, 7: None}"
      ]
     },
     "execution_count": 27,
     "metadata": {},
     "output_type": "execute_result"
    }
   ],
   "execution_count": 27
  },
  {
   "metadata": {
    "ExecuteTime": {
     "end_time": "2025-09-10T05:40:03.566951Z",
     "start_time": "2025-09-10T05:40:03.559954Z"
    }
   },
   "cell_type": "code",
   "source": [
    "dict1.setdefault(104,'Arbab')\n",
    "print(dict1)"
   ],
   "id": "d41d88b9df97081c",
   "outputs": [
    {
     "name": "stdout",
     "output_type": "stream",
     "text": [
      "{101: 'Satyam', 104: 'Arbab'}\n"
     ]
    }
   ],
   "execution_count": 28
  },
  {
   "metadata": {
    "ExecuteTime": {
     "end_time": "2025-09-10T05:41:20.148071Z",
     "start_time": "2025-09-10T05:41:20.137575Z"
    }
   },
   "cell_type": "code",
   "source": [
    "dict1.setdefault(103,'Piyush')\n",
    "dict1.setdefault(104,'Umang')\n",
    "dict1.setdefault(102,'Shivam')"
   ],
   "id": "969fd1d2674db853",
   "outputs": [
    {
     "data": {
      "text/plain": [
       "'Shivam'"
      ]
     },
     "execution_count": 30,
     "metadata": {},
     "output_type": "execute_result"
    }
   ],
   "execution_count": 30
  },
  {
   "metadata": {
    "ExecuteTime": {
     "end_time": "2025-09-10T05:41:35.807464Z",
     "start_time": "2025-09-10T05:41:35.799072Z"
    }
   },
   "cell_type": "code",
   "source": "print(dict1)",
   "id": "306f2e063ed588d",
   "outputs": [
    {
     "name": "stdout",
     "output_type": "stream",
     "text": [
      "{101: 'Satyam', 104: 'Arbab', 102: 'Shivam', 103: 'Piyush'}\n"
     ]
    }
   ],
   "execution_count": 31
  },
  {
   "metadata": {
    "ExecuteTime": {
     "end_time": "2025-09-10T05:43:00.099247Z",
     "start_time": "2025-09-10T05:43:00.090767Z"
    }
   },
   "cell_type": "markdown",
   "source": "<h1>Tuple</h1>",
   "id": "e6a2f151ab37d762"
  },
  {
   "metadata": {
    "ExecuteTime": {
     "end_time": "2025-09-10T06:10:06.550174Z",
     "start_time": "2025-09-10T06:10:06.544173Z"
    }
   },
   "cell_type": "code",
   "source": "tup1 = (1,2,3,4,5,6,7,8,9,0)",
   "id": "652df4ec31606f43",
   "outputs": [],
   "execution_count": 34
  },
  {
   "metadata": {
    "ExecuteTime": {
     "end_time": "2025-09-10T06:10:13.373548Z",
     "start_time": "2025-09-10T06:10:13.367647Z"
    }
   },
   "cell_type": "code",
   "source": "print(tup1)",
   "id": "389402b91de6afb4",
   "outputs": [
    {
     "name": "stdout",
     "output_type": "stream",
     "text": [
      "(1, 2, 3, 4, 5, 6, 7, 8, 9, 0)\n"
     ]
    }
   ],
   "execution_count": 35
  },
  {
   "metadata": {
    "ExecuteTime": {
     "end_time": "2025-09-10T06:12:05.715649Z",
     "start_time": "2025-09-10T06:12:05.707647Z"
    }
   },
   "cell_type": "code",
   "source": [
    "for i in tup1:\n",
    "    if i%2 == 0:\n",
    "        print(\"even\" ,end = \" \")\n",
    "    else:\n",
    "        print(\"odd\",end=\" \")\n"
   ],
   "id": "4699e092ebda800b",
   "outputs": [
    {
     "name": "stdout",
     "output_type": "stream",
     "text": [
      "odd even odd even odd even odd even odd even "
     ]
    }
   ],
   "execution_count": 37
  },
  {
   "metadata": {
    "ExecuteTime": {
     "end_time": "2025-09-10T06:12:37.071681Z",
     "start_time": "2025-09-10T06:12:37.014394Z"
    }
   },
   "cell_type": "code",
   "source": "tup1[1] = 0",
   "id": "22ff4838f25b6f1e",
   "outputs": [
    {
     "ename": "TypeError",
     "evalue": "'tuple' object does not support item assignment",
     "output_type": "error",
     "traceback": [
      "\u001B[31m---------------------------------------------------------------------------\u001B[39m",
      "\u001B[31mTypeError\u001B[39m                                 Traceback (most recent call last)",
      "\u001B[36mCell\u001B[39m\u001B[36m \u001B[39m\u001B[32mIn[38]\u001B[39m\u001B[32m, line 1\u001B[39m\n\u001B[32m----> \u001B[39m\u001B[32m1\u001B[39m \u001B[43mtup1\u001B[49m\u001B[43m[\u001B[49m\u001B[32;43m1\u001B[39;49m\u001B[43m]\u001B[49m = \u001B[32m0\u001B[39m \n",
      "\u001B[31mTypeError\u001B[39m: 'tuple' object does not support item assignment"
     ]
    }
   ],
   "execution_count": 38
  },
  {
   "metadata": {
    "ExecuteTime": {
     "end_time": "2025-09-10T06:14:06.817232Z",
     "start_time": "2025-09-10T06:14:06.810512Z"
    }
   },
   "cell_type": "code",
   "source": "print(tup1[-1:-11:-1])",
   "id": "48f680ab6b79fcae",
   "outputs": [
    {
     "name": "stdout",
     "output_type": "stream",
     "text": [
      "(0, 9, 8, 7, 6, 5, 4, 3, 2, 1)\n"
     ]
    }
   ],
   "execution_count": 44
  },
  {
   "metadata": {},
   "cell_type": "markdown",
   "source": "<h1>Set</h>",
   "id": "fdadd7d74391e393"
  },
  {
   "metadata": {
    "ExecuteTime": {
     "end_time": "2025-09-10T07:30:55.427206Z",
     "start_time": "2025-09-10T07:30:55.419096Z"
    }
   },
   "cell_type": "code",
   "source": [
    "s = {2,3,1,2}\n",
    "print(s)\n",
    "s.add(4)\n",
    "s.remove(2)\n",
    "s.pop()\n",
    "print(s)\n",
    "s.add(1)\n",
    "s.add(2)"
   ],
   "id": "310ec497dfc9782d",
   "outputs": [
    {
     "name": "stdout",
     "output_type": "stream",
     "text": [
      "{1, 2, 3}\n",
      "{3, 4}\n"
     ]
    }
   ],
   "execution_count": 58
  },
  {
   "metadata": {
    "ExecuteTime": {
     "end_time": "2025-09-10T07:27:14.289143Z",
     "start_time": "2025-09-10T07:27:14.282487Z"
    }
   },
   "cell_type": "code",
   "source": [
    "for i in s:\n",
    "    print(i)"
   ],
   "id": "61d40b09f944be54",
   "outputs": [
    {
     "name": "stdout",
     "output_type": "stream",
     "text": [
      "1\n",
      "2\n",
      "3\n",
      "4\n"
     ]
    }
   ],
   "execution_count": 55
  },
  {
   "metadata": {
    "ExecuteTime": {
     "end_time": "2025-09-10T07:30:57.272916Z",
     "start_time": "2025-09-10T07:30:57.265322Z"
    }
   },
   "cell_type": "code",
   "source": [
    "s2 = s\n",
    "s1 =s.copy()\n",
    "s.add(5)\n",
    "print(s)\n",
    "print(s1)\n",
    "print(s2)"
   ],
   "id": "fc45426d2393cd3d",
   "outputs": [
    {
     "name": "stdout",
     "output_type": "stream",
     "text": [
      "{1, 2, 3, 4, 5}\n",
      "{1, 2, 3, 4}\n",
      "{1, 2, 3, 4, 5}\n"
     ]
    }
   ],
   "execution_count": 59
  },
  {
   "metadata": {
    "ExecuteTime": {
     "end_time": "2025-09-10T07:31:50.154045Z",
     "start_time": "2025-09-10T07:31:50.147262Z"
    }
   },
   "cell_type": "code",
   "source": "print(s.difference(s1))",
   "id": "8de509ca61f67ad2",
   "outputs": [
    {
     "name": "stdout",
     "output_type": "stream",
     "text": [
      "{5}\n"
     ]
    }
   ],
   "execution_count": 60
  },
  {
   "metadata": {
    "ExecuteTime": {
     "end_time": "2025-09-10T07:33:04.309137Z",
     "start_time": "2025-09-10T07:33:04.300632Z"
    }
   },
   "cell_type": "code",
   "source": "print(s1.issubset(s))",
   "id": "4be35798df633163",
   "outputs": [
    {
     "name": "stdout",
     "output_type": "stream",
     "text": [
      "True\n"
     ]
    }
   ],
   "execution_count": 63
  },
  {
   "metadata": {
    "ExecuteTime": {
     "end_time": "2025-09-10T07:34:30.023156Z",
     "start_time": "2025-09-10T07:34:30.016097Z"
    }
   },
   "cell_type": "code",
   "source": "print()",
   "id": "b277f4a7971906f0",
   "outputs": [
    {
     "name": "stdout",
     "output_type": "stream",
     "text": [
      "False\n"
     ]
    }
   ],
   "execution_count": 65
  },
  {
   "metadata": {},
   "cell_type": "code",
   "outputs": [],
   "execution_count": null,
   "source": "",
   "id": "6c5f2e23d0fb415a"
  }
 ],
 "metadata": {
  "kernelspec": {
   "display_name": "Python 3",
   "language": "python",
   "name": "python3"
  },
  "language_info": {
   "codemirror_mode": {
    "name": "ipython",
    "version": 2
   },
   "file_extension": ".py",
   "mimetype": "text/x-python",
   "name": "python",
   "nbconvert_exporter": "python",
   "pygments_lexer": "ipython2",
   "version": "2.7.6"
  }
 },
 "nbformat": 4,
 "nbformat_minor": 5
}
