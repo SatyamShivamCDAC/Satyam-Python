{
 "cells": [
  {
   "cell_type": "code",
   "id": "initial_id",
   "metadata": {
    "collapsed": true,
    "ExecuteTime": {
     "end_time": "2025-09-17T10:34:19.348986Z",
     "start_time": "2025-09-17T10:34:19.341727Z"
    }
   },
   "source": [
    "class A:\n",
    "    def myMethod(self):\n",
    "        print(\"Class A\")\n"
   ],
   "outputs": [],
   "execution_count": 1
  },
  {
   "metadata": {
    "ExecuteTime": {
     "end_time": "2025-09-17T10:36:23.728255Z",
     "start_time": "2025-09-17T10:36:23.722118Z"
    }
   },
   "cell_type": "code",
   "source": [
    "class B:\n",
    "    def myMethod(self):\n",
    "        print(\"Class B\")"
   ],
   "id": "d2367acf9a153a4",
   "outputs": [],
   "execution_count": 7
  },
  {
   "metadata": {
    "ExecuteTime": {
     "end_time": "2025-09-17T10:36:36.420302Z",
     "start_time": "2025-09-17T10:36:36.413895Z"
    }
   },
   "cell_type": "code",
   "source": [
    "class D(B,A):\n",
    "    pass"
   ],
   "id": "9137830ca07d6e5e",
   "outputs": [],
   "execution_count": 10
  },
  {
   "metadata": {
    "ExecuteTime": {
     "end_time": "2025-09-17T10:36:37.209687Z",
     "start_time": "2025-09-17T10:36:37.203112Z"
    }
   },
   "cell_type": "code",
   "source": [
    "d = D()\n",
    "d.myMethod()"
   ],
   "id": "3eff2e10a00d5759",
   "outputs": [
    {
     "name": "stdout",
     "output_type": "stream",
     "text": [
      "Class B\n"
     ]
    }
   ],
   "execution_count": 11
  },
  {
   "metadata": {},
   "cell_type": "code",
   "outputs": [],
   "execution_count": null,
   "source": "",
   "id": "39503f1adc626792"
  }
 ],
 "metadata": {
  "kernelspec": {
   "display_name": "Python 3",
   "language": "python",
   "name": "python3"
  },
  "language_info": {
   "codemirror_mode": {
    "name": "ipython",
    "version": 2
   },
   "file_extension": ".py",
   "mimetype": "text/x-python",
   "name": "python",
   "nbconvert_exporter": "python",
   "pygments_lexer": "ipython2",
   "version": "2.7.6"
  }
 },
 "nbformat": 4,
 "nbformat_minor": 5
}
