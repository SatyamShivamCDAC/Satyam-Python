{
 "cells": [
  {
   "metadata": {
    "collapsed": true
   },
   "cell_type": "markdown",
   "source": "<h1>Built in</h1>\n",
   "id": "dbf70dd1124c1ace"
  },
  {
   "metadata": {
    "ExecuteTime": {
     "end_time": "2025-09-12T06:13:00.153022Z",
     "start_time": "2025-09-12T06:13:00.143913Z"
    }
   },
   "cell_type": "code",
   "source": [
    "#map\n",
    "l = [40,60,10,20,30,70]\n",
    "x = (map(lambda a:a**2,l))\n",
    "print(type(x))\n",
    "print(x)\n",
    "print(list(x))"
   ],
   "id": "d832552372fc940b",
   "outputs": [
    {
     "name": "stdout",
     "output_type": "stream",
     "text": [
      "<class 'map'>\n",
      "<map object at 0x7f3a27da77f0>\n",
      "[1600, 3600, 100, 400, 900, 4900]\n"
     ]
    }
   ],
   "execution_count": 18
  },
  {
   "metadata": {
    "ExecuteTime": {
     "end_time": "2025-09-12T06:06:14.361319Z",
     "start_time": "2025-09-12T06:06:14.353064Z"
    }
   },
   "cell_type": "code",
   "source": [
    "#filter\n",
    "def myfilter(num):\n",
    "    if num >50:\n",
    "        return True\n",
    "    else:\n",
    "        return False\n",
    "y = filter(myfilter,l)\n",
    "print(type(y))\n",
    "print(list(y))"
   ],
   "id": "c3f5ffc6490f25df",
   "outputs": [
    {
     "name": "stdout",
     "output_type": "stream",
     "text": [
      "<class 'filter'>\n",
      "[60, 70]\n"
     ]
    }
   ],
   "execution_count": 8
  },
  {
   "metadata": {
    "ExecuteTime": {
     "end_time": "2025-09-12T06:13:02.851942Z",
     "start_time": "2025-09-12T06:13:02.845179Z"
    }
   },
   "cell_type": "code",
   "source": [
    "#sorted\n",
    "print(l)\n",
    "print(sorted(l))\n"
   ],
   "id": "75a6c379ae112dbc",
   "outputs": [
    {
     "name": "stdout",
     "output_type": "stream",
     "text": [
      "[40, 60, 10, 20, 30, 70]\n",
      "[10, 20, 30, 40, 60, 70]\n"
     ]
    }
   ],
   "execution_count": 19
  },
  {
   "metadata": {
    "ExecuteTime": {
     "end_time": "2025-09-12T06:14:02.009687Z",
     "start_time": "2025-09-12T06:14:02.002881Z"
    }
   },
   "cell_type": "code",
   "source": [
    "#reversed\n",
    "print(list(reversed(l)))\n",
    "print(l)"
   ],
   "id": "286705c472ef924b",
   "outputs": [
    {
     "name": "stdout",
     "output_type": "stream",
     "text": [
      "[70, 30, 20, 10, 60, 40]\n",
      "[40, 60, 10, 20, 30, 70]\n"
     ]
    }
   ],
   "execution_count": 25
  },
  {
   "metadata": {
    "ExecuteTime": {
     "end_time": "2025-09-12T06:14:19.827242Z",
     "start_time": "2025-09-12T06:14:19.820637Z"
    }
   },
   "cell_type": "code",
   "source": [
    "#sum\n",
    "print(sum(l))"
   ],
   "id": "56068cc36e6d90eb",
   "outputs": [
    {
     "name": "stdout",
     "output_type": "stream",
     "text": [
      "230\n"
     ]
    }
   ],
   "execution_count": 26
  },
  {
   "metadata": {
    "ExecuteTime": {
     "end_time": "2025-09-12T06:21:25.477479Z",
     "start_time": "2025-09-12T06:21:25.469438Z"
    }
   },
   "cell_type": "code",
   "source": [
    "#zip\n",
    "first = [\"abc\",\"acc\",\"das\",\"sf\"]\n",
    "last = [\"axd\",\"casd\",'fsa','sf']\n",
    "\n",
    "m = zip(first,last)\n",
    "\n",
    "print(dict(m))"
   ],
   "id": "a3cd9db48e2b8da6",
   "outputs": [
    {
     "name": "stdout",
     "output_type": "stream",
     "text": [
      "{'abc': 'axd', 'acc': 'casd', 'das': 'fsa', 'sf': 'sf'}\n"
     ]
    }
   ],
   "execution_count": 34
  },
  {
   "metadata": {
    "ExecuteTime": {
     "end_time": "2025-09-12T06:21:27.316972Z",
     "start_time": "2025-09-12T06:21:27.310148Z"
    }
   },
   "cell_type": "code",
   "source": [
    "#zip to dict\n",
    "\n"
   ],
   "id": "cf6959c143eb75ad",
   "outputs": [
    {
     "name": "stdout",
     "output_type": "stream",
     "text": [
      "{}\n"
     ]
    }
   ],
   "execution_count": 35
  },
  {
   "metadata": {},
   "cell_type": "code",
   "outputs": [],
   "execution_count": null,
   "source": "",
   "id": "fab81de8d3ce3e3c"
  }
 ],
 "metadata": {
  "kernelspec": {
   "display_name": "Python 3",
   "language": "python",
   "name": "python3"
  },
  "language_info": {
   "codemirror_mode": {
    "name": "ipython",
    "version": 2
   },
   "file_extension": ".py",
   "mimetype": "text/x-python",
   "name": "python",
   "nbconvert_exporter": "python",
   "pygments_lexer": "ipython2",
   "version": "2.7.6"
  }
 },
 "nbformat": 4,
 "nbformat_minor": 5
}
