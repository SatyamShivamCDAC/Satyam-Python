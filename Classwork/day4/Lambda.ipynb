{
 "cells": [
  {
   "metadata": {
    "collapsed": true
   },
   "cell_type": "markdown",
   "source": "<h1>lambda</h1>\n",
   "id": "c37838df0b56b5ab"
  },
  {
   "metadata": {
    "ExecuteTime": {
     "end_time": "2025-09-12T03:10:28.581011Z",
     "start_time": "2025-09-12T03:10:28.574370Z"
    }
   },
   "cell_type": "code",
   "source": [
    "add1 = lambda a,b : a+b\n",
    "substract1 = lambda a,b : a-b\n",
    "multiply1 = lambda a,b : a*b\n",
    "divide1 = lambda a,b : a/b\n"
   ],
   "id": "13a566dee99b7801",
   "outputs": [],
   "execution_count": 9
  },
  {
   "metadata": {
    "ExecuteTime": {
     "end_time": "2025-09-12T03:03:29.807110Z",
     "start_time": "2025-09-12T03:03:29.798750Z"
    }
   },
   "cell_type": "code",
   "source": [
    "num1 = 6\n",
    "num2 = 2\n",
    "\n",
    "print(add(num1,num2))\n",
    "print(substract(num1,num2))\n",
    "print(multiply(num1,num2))\n",
    "print(divide(num1,num2))"
   ],
   "id": "fcfa4a862461e021",
   "outputs": [
    {
     "name": "stdout",
     "output_type": "stream",
     "text": [
      "8\n",
      "4\n",
      "12\n",
      "3.0\n"
     ]
    }
   ],
   "execution_count": 7
  },
  {
   "metadata": {
    "ExecuteTime": {
     "end_time": "2025-09-12T03:10:33.413034Z",
     "start_time": "2025-09-12T03:10:33.406887Z"
    }
   },
   "cell_type": "code",
   "source": "import module_1",
   "id": "f1702e950bebc73d",
   "outputs": [],
   "execution_count": 10
  },
  {
   "metadata": {},
   "cell_type": "code",
   "outputs": [],
   "execution_count": null,
   "source": "",
   "id": "f2c44f7960bbd969"
  }
 ],
 "metadata": {
  "kernelspec": {
   "display_name": "Python 3",
   "language": "python",
   "name": "python3"
  },
  "language_info": {
   "codemirror_mode": {
    "name": "ipython",
    "version": 2
   },
   "file_extension": ".py",
   "mimetype": "text/x-python",
   "name": "python",
   "nbconvert_exporter": "python",
   "pygments_lexer": "ipython2",
   "version": "2.7.6"
  }
 },
 "nbformat": 4,
 "nbformat_minor": 5
}
