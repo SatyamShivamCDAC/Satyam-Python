{
 "cells": [
  {
   "metadata": {
    "collapsed": true,
    "ExecuteTime": {
     "end_time": "2025-09-12T03:18:09.291106Z",
     "start_time": "2025-09-12T03:18:09.282026Z"
    }
   },
   "cell_type": "markdown",
   "source": "<h1>Module</h1>",
   "id": "820ece5bbd115c53"
  },
  {
   "metadata": {
    "ExecuteTime": {
     "end_time": "2025-09-12T03:22:06.950901Z",
     "start_time": "2025-09-12T03:22:06.943308Z"
    }
   },
   "cell_type": "code",
   "source": [
    "from module_1 import calculator\n",
    "\n"
   ],
   "id": "1153c26082684673",
   "outputs": [],
   "execution_count": 2
  },
  {
   "metadata": {
    "ExecuteTime": {
     "end_time": "2025-09-12T03:22:57.622874Z",
     "start_time": "2025-09-12T03:22:57.615299Z"
    }
   },
   "cell_type": "code",
   "source": "print(calculator.add(2,3))",
   "id": "dba48d3e4c591f8d",
   "outputs": [
    {
     "name": "stdout",
     "output_type": "stream",
     "text": [
      "5\n"
     ]
    }
   ],
   "execution_count": 3
  },
  {
   "metadata": {
    "ExecuteTime": {
     "end_time": "2025-09-12T03:23:28.085075Z",
     "start_time": "2025-09-12T03:23:28.079394Z"
    }
   },
   "cell_type": "code",
   "source": "from module_1.calculator import multiply,divide",
   "id": "20cba595a4125fc0",
   "outputs": [],
   "execution_count": 4
  },
  {
   "metadata": {
    "ExecuteTime": {
     "end_time": "2025-09-12T03:23:49.812989Z",
     "start_time": "2025-09-12T03:23:49.805981Z"
    }
   },
   "cell_type": "code",
   "source": [
    "print(multiply(3,2))\n",
    "print(divide(5,2))"
   ],
   "id": "b4da9cceace13472",
   "outputs": [
    {
     "name": "stdout",
     "output_type": "stream",
     "text": [
      "6\n",
      "2.5\n"
     ]
    }
   ],
   "execution_count": 5
  },
  {
   "metadata": {},
   "cell_type": "code",
   "outputs": [],
   "execution_count": null,
   "source": "",
   "id": "c8c83b90648b9256"
  }
 ],
 "metadata": {
  "kernelspec": {
   "display_name": "Python 3",
   "language": "python",
   "name": "python3"
  },
  "language_info": {
   "codemirror_mode": {
    "name": "ipython",
    "version": 2
   },
   "file_extension": ".py",
   "mimetype": "text/x-python",
   "name": "python",
   "nbconvert_exporter": "python",
   "pygments_lexer": "ipython2",
   "version": "2.7.6"
  }
 },
 "nbformat": 4,
 "nbformat_minor": 5
}
