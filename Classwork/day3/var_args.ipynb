{
 "cells": [
  {
   "metadata": {
    "collapsed": true
   },
   "cell_type": "markdown",
   "source": "<h1>variable lenght arguments</h1>",
   "id": "c0829bdd8b2cf22e"
  },
  {
   "metadata": {
    "ExecuteTime": {
     "end_time": "2025-09-11T04:55:48.460297Z",
     "start_time": "2025-09-11T04:55:48.451998Z"
    }
   },
   "cell_type": "code",
   "source": [
    "def add(*arg):\n",
    "    print(type(arg))\n",
    "    sum = 0\n",
    "    for i in arg:\n",
    "        sum+=i\n",
    "    return sum"
   ],
   "id": "a50d23d0918d4d6a",
   "outputs": [],
   "execution_count": 7
  },
  {
   "metadata": {
    "ExecuteTime": {
     "end_time": "2025-09-11T04:55:49.277994Z",
     "start_time": "2025-09-11T04:55:49.271118Z"
    }
   },
   "cell_type": "code",
   "source": "print(add(1,2,3))",
   "id": "438bc58c9a3ffce4",
   "outputs": [
    {
     "name": "stdout",
     "output_type": "stream",
     "text": [
      "<class 'tuple'>\n",
      "6\n"
     ]
    }
   ],
   "execution_count": 8
  },
  {
   "metadata": {
    "ExecuteTime": {
     "end_time": "2025-09-11T04:58:03.689527Z",
     "start_time": "2025-09-11T04:58:03.681671Z"
    }
   },
   "cell_type": "code",
   "source": [
    "def printl2(*args):\n",
    "    for i in args:\n",
    "        print(i)\n"
   ],
   "id": "ded07b2688b82e13",
   "outputs": [],
   "execution_count": 11
  },
  {
   "metadata": {
    "ExecuteTime": {
     "end_time": "2025-09-11T04:58:27.293131Z",
     "start_time": "2025-09-11T04:58:27.286279Z"
    }
   },
   "cell_type": "code",
   "source": "printl2(1,\"sa\",[\"yt\",12],(2,3,4))",
   "id": "f25706fb7d23ec09",
   "outputs": [
    {
     "name": "stdout",
     "output_type": "stream",
     "text": [
      "1\n",
      "sa\n",
      "['yt', 12]\n",
      "(2, 3, 4)\n"
     ]
    }
   ],
   "execution_count": 14
  },
  {
   "metadata": {
    "ExecuteTime": {
     "end_time": "2025-09-11T05:04:30.031436Z",
     "start_time": "2025-09-11T05:04:30.023728Z"
    }
   },
   "cell_type": "code",
   "source": [
    "def to_string(*args):\n",
    "    str_arr = []\n",
    "    for i in args:\n",
    "        str_arr.append(str(i))\n",
    "        str_arr.append(\" \")\n",
    "    print(''.join(str_arr))"
   ],
   "id": "108dbc1e8a40500a",
   "outputs": [],
   "execution_count": 17
  },
  {
   "metadata": {
    "ExecuteTime": {
     "end_time": "2025-09-11T05:04:31.037762Z",
     "start_time": "2025-09-11T05:04:31.030305Z"
    }
   },
   "cell_type": "code",
   "source": "to_string(1,\"sa\",[\"yt\",12],(2,3,4))",
   "id": "499bb9df42ec3f0c",
   "outputs": [
    {
     "name": "stdout",
     "output_type": "stream",
     "text": [
      "1 sa ['yt', 12] (2, 3, 4) \n"
     ]
    }
   ],
   "execution_count": 18
  },
  {
   "metadata": {},
   "cell_type": "code",
   "outputs": [],
   "execution_count": null,
   "source": "",
   "id": "ff3665fcc4d4dea1"
  }
 ],
 "metadata": {
  "kernelspec": {
   "display_name": "Python 3",
   "language": "python",
   "name": "python3"
  },
  "language_info": {
   "codemirror_mode": {
    "name": "ipython",
    "version": 2
   },
   "file_extension": ".py",
   "mimetype": "text/x-python",
   "name": "python",
   "nbconvert_exporter": "python",
   "pygments_lexer": "ipython2",
   "version": "2.7.6"
  }
 },
 "nbformat": 4,
 "nbformat_minor": 5
}
