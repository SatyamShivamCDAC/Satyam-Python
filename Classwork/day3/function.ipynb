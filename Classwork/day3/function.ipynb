{
 "cells": [
  {
   "metadata": {
    "collapsed": true
   },
   "cell_type": "markdown",
   "source": "<h1>Function</h>",
   "id": "1d305898e52d327b"
  },
  {
   "metadata": {
    "ExecuteTime": {
     "end_time": "2025-09-11T03:04:30.764331Z",
     "start_time": "2025-09-11T03:04:30.755183Z"
    }
   },
   "cell_type": "code",
   "source": [
    "# funtion to show if the number is Even or Odd\n",
    "def even_or_odd(num):\n",
    "    if num%2 == 0:\n",
    "        print(\"even\")\n",
    "    else:\n",
    "        print(\"odd\")"
   ],
   "id": "e8a26c4d81386698",
   "outputs": [],
   "execution_count": 1
  },
  {
   "metadata": {
    "ExecuteTime": {
     "end_time": "2025-09-11T03:04:36.767264Z",
     "start_time": "2025-09-11T03:04:36.760274Z"
    }
   },
   "cell_type": "code",
   "source": "even_or_odd(12)\n",
   "id": "b5d244a167e11d5f",
   "outputs": [
    {
     "name": "stdout",
     "output_type": "stream",
     "text": [
      "even\n"
     ]
    }
   ],
   "execution_count": 2
  },
  {
   "metadata": {
    "ExecuteTime": {
     "end_time": "2025-09-11T03:30:20.330249Z",
     "start_time": "2025-09-11T03:30:20.322182Z"
    }
   },
   "cell_type": "code",
   "source": [
    "#add upto\n",
    "def add_upto(num):\n",
    "    addition = 0\n",
    "    for i in range(num+1):\n",
    "        addition += i\n",
    "    return addition\n",
    "\n",
    "print(add_upto(4))"
   ],
   "id": "f13fdcb6698a022b",
   "outputs": [
    {
     "name": "stdout",
     "output_type": "stream",
     "text": [
      "10\n"
     ]
    }
   ],
   "execution_count": 3
  },
  {
   "metadata": {
    "ExecuteTime": {
     "end_time": "2025-09-11T03:30:20.755304Z",
     "start_time": "2025-09-11T03:30:20.750835Z"
    }
   },
   "cell_type": "code",
   "source": "",
   "id": "468ab196b7e390f5",
   "outputs": [],
   "execution_count": null
  },
  {
   "metadata": {
    "ExecuteTime": {
     "end_time": "2025-09-11T03:30:21.238544Z",
     "start_time": "2025-09-11T03:30:21.234321Z"
    }
   },
   "cell_type": "code",
   "source": "",
   "id": "2aad7fe87390da1b",
   "outputs": [],
   "execution_count": null
  },
  {
   "metadata": {
    "ExecuteTime": {
     "end_time": "2025-09-11T03:31:45.180510Z",
     "start_time": "2025-09-11T03:31:45.171557Z"
    }
   },
   "cell_type": "code",
   "source": [
    "#default parameter\n",
    "def add(a=0,b=0):\n",
    "    return a+b\n",
    "\n",
    "print(add(4))\n",
    "print(add(4,2))\n"
   ],
   "id": "4b88eb3edb959d16",
   "outputs": [
    {
     "name": "stdout",
     "output_type": "stream",
     "text": [
      "4\n",
      "6\n"
     ]
    }
   ],
   "execution_count": 6
  },
  {
   "metadata": {
    "ExecuteTime": {
     "end_time": "2025-09-11T03:32:17.563807Z",
     "start_time": "2025-09-11T03:32:17.557032Z"
    }
   },
   "cell_type": "code",
   "source": [
    "#named parameter\n",
    "print(add(b = 2,a= 1))"
   ],
   "id": "59a7d88f5cdd65de",
   "outputs": [
    {
     "name": "stdout",
     "output_type": "stream",
     "text": [
      "3\n"
     ]
    }
   ],
   "execution_count": 7
  },
  {
   "metadata": {
    "ExecuteTime": {
     "end_time": "2025-09-11T03:34:47.101674Z",
     "start_time": "2025-09-11T03:34:47.093750Z"
    }
   },
   "cell_type": "code",
   "source": [
    "#Addtion of list values\n",
    "\n",
    "def add_list(numbers):\n",
    "    result = 0\n",
    "    for num in numbers:\n",
    "        result +=  num\n",
    "    return result\n",
    "print(add_list([1,2,3,4,5]))"
   ],
   "id": "1ad6ef3a71712016",
   "outputs": [
    {
     "name": "stdout",
     "output_type": "stream",
     "text": [
      "15\n"
     ]
    }
   ],
   "execution_count": 14
  },
  {
   "metadata": {},
   "cell_type": "code",
   "outputs": [],
   "execution_count": null,
   "source": "",
   "id": "597c456fd0d9467a"
  }
 ],
 "metadata": {
  "kernelspec": {
   "display_name": "Python 3",
   "language": "python",
   "name": "python3"
  },
  "language_info": {
   "codemirror_mode": {
    "name": "ipython",
    "version": 2
   },
   "file_extension": ".py",
   "mimetype": "text/x-python",
   "name": "python",
   "nbconvert_exporter": "python",
   "pygments_lexer": "ipython2",
   "version": "2.7.6"
  }
 },
 "nbformat": 4,
 "nbformat_minor": 5
}
