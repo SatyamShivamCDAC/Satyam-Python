{
 "cells": [
  {
   "cell_type": "code",
   "execution_count": 2,
   "id": "initial_id",
   "metadata": {
    "ExecuteTime": {
     "end_time": "2025-09-11T07:59:45.028300Z",
     "start_time": "2025-09-11T07:59:45.020503Z"
    },
    "collapsed": true,
    "jupyter": {
     "outputs_hidden": true
    }
   },
   "outputs": [
    {
     "name": "stdout",
     "output_type": "stream",
     "text": [
      "1 2\n",
      "2 1\n"
     ]
    }
   ],
   "source": [
    "# 1. Swap two numbers\n",
    "a = 1\n",
    "b = 2\n",
    "print(a, b)\n",
    "a, b = b, a\n",
    "print(a, b)"
   ]
  },
  {
   "cell_type": "code",
   "execution_count": 3,
   "id": "85a9dc3786f51f4b",
   "metadata": {
    "ExecuteTime": {
     "end_time": "2025-09-11T08:00:05.212557Z",
     "start_time": "2025-09-11T08:00:05.202975Z"
    }
   },
   "outputs": [
    {
     "name": "stdout",
     "output_type": "stream",
     "text": [
      "4 + 3 + 2 + 1 = 10\n",
      "0\n"
     ]
    }
   ],
   "source": [
    "# 2. Sum of digits of a number\n",
    "\n",
    "number = 1234\n",
    "\n",
    "first_digit = number % 10\n",
    "\n",
    "number //= 10\n",
    "second_digit = number % 10\n",
    "\n",
    "number //= 10\n",
    "third_digit = number % 10\n",
    "\n",
    "number //= 10\n",
    "fourth_digit = number % 10\n",
    "\n",
    "sum = first_digit + second_digit + third_digit + fourth_digit;\n",
    "print(f'{first_digit} + {second_digit} + {third_digit} + {fourth_digit} = {sum}')\n",
    "number //= 10\n",
    "print(number)"
   ]
  },
  {
   "cell_type": "code",
   "execution_count": 6,
   "id": "b95843fff620a919",
   "metadata": {
    "ExecuteTime": {
     "end_time": "2025-09-11T08:01:42.832154Z",
     "start_time": "2025-09-11T08:01:38.680195Z"
    }
   },
   "outputs": [
    {
     "name": "stdout",
     "output_type": "stream",
     "text": [
      "5 is Odd.\n"
     ]
    }
   ],
   "source": [
    "# 3. Even or Odd\n",
    "number = int(input('Number: '))\n",
    "\n",
    "if number % 2 == 0:\n",
    "    print(number, 'is Even.')\n",
    "else:\n",
    "    print(number, 'is Odd.')"
   ]
  },
  {
   "cell_type": "code",
   "execution_count": 7,
   "id": "b4bc3e4d9354fe1e",
   "metadata": {
    "ExecuteTime": {
     "end_time": "2025-09-11T08:02:02.769411Z",
     "start_time": "2025-09-11T08:01:51.358112Z"
    }
   },
   "outputs": [
    {
     "name": "stdout",
     "output_type": "stream",
     "text": [
      "Pass\n"
     ]
    }
   ],
   "source": [
    "# 4. Assign grade based on marks\n",
    "\n",
    "marks = int(input('Marks: '))\n",
    "\n",
    "if marks <= 0 or marks > 100:\n",
    "    print('Enter valid marks')\n",
    "elif marks >= 76:\n",
    "    print('Distinction')\n",
    "elif marks >= 54:\n",
    "    print('Second Class')\n",
    "elif marks >= 41:\n",
    "    print('Pass')\n",
    "else:\n",
    "    print('Fail')"
   ]
  },
  {
   "cell_type": "code",
   "execution_count": 8,
   "id": "de160f5c9ab466a",
   "metadata": {},
   "outputs": [
    {
     "name": "stdin",
     "output_type": "stream",
     "text": [
      "Number:  5\n"
     ]
    },
    {
     "name": "stdout",
     "output_type": "stream",
     "text": [
      "Factorial: 120\n"
     ]
    }
   ],
   "source": [
    "# 5. Factorial of a number\n",
    "\n",
    "number = int(input('Number: '))\n",
    "factorial = 1\n",
    "for i in range(2, number + 1):\n",
    "    factorial *= i\n",
    "\n",
    "print('Factorial:', factorial)"
   ]
  },
  {
   "cell_type": "code",
   "execution_count": 9,
   "id": "5710d50b-b88a-4fb5-8646-20a19170050f",
   "metadata": {},
   "outputs": [
    {
     "name": "stdin",
     "output_type": "stream",
     "text": [
      "Number:  7\n"
     ]
    },
    {
     "name": "stdout",
     "output_type": "stream",
     "text": [
      "7 is Prime.\n"
     ]
    }
   ],
   "source": [
    "# 6. Prime Number\n",
    "\n",
    "number = int(input('Number: '))\n",
    "\n",
    "if number == 0 or number == 1:\n",
    "    print(number, 'is not Prime.')\n",
    "else:\n",
    "    for i in range(2, (number // 2) + 1):\n",
    "        if number % i == 0:\n",
    "            print(number, 'is not Prime.')\n",
    "            break\n",
    "    else:\n",
    "        print(number, 'is Prime.')"
   ]
  },
  {
   "cell_type": "code",
   "execution_count": 10,
   "id": "acd9c64d-034a-4c18-be9c-8d2cd5c158b0",
   "metadata": {},
   "outputs": [
    {
     "name": "stdout",
     "output_type": "stream",
     "text": [
      "2 3 5 7 11 13 17 19 23 29 31 37 41 43 47 "
     ]
    }
   ],
   "source": [
    "for i in range(51):\n",
    "    if i == 0 or i == 1:\n",
    "        continue\n",
    "    for j in range(2, (i // 2) + 1):\n",
    "        if i % j == 0:\n",
    "            break\n",
    "    else:\n",
    "        print(i, end=\" \")"
   ]
  },
  {
   "cell_type": "code",
   "execution_count": 11,
   "id": "a0b43a1f-6e2e-4283-be9e-930cc658c5ce",
   "metadata": {},
   "outputs": [
    {
     "name": "stdout",
     "output_type": "stream",
     "text": [
      "[5, 4, 3, 2, 1]\n"
     ]
    }
   ],
   "source": [
    "# 7. Reverse a list\n",
    "numbers = [1, 2, 3, 4, 5]\n",
    "numbers.reverse()\n",
    "print(numbers)"
   ]
  },
  {
   "cell_type": "code",
   "execution_count": 13,
   "id": "f8ec3682-8976-4ac7-912c-5df64a653e14",
   "metadata": {},
   "outputs": [
    {
     "name": "stdout",
     "output_type": "stream",
     "text": [
      "[2, 4, 6, 8, 10, 12, 14, 16, 18, 20, 22, 24, 26, 28, 30, 32, 34, 36, 38, 40, 42, 44, 46, 48, 50, 52, 54, 56, 58, 60, 62, 64, 66, 68, 70, 72, 74, 76, 78, 80, 82, 84, 86, 88, 90, 92, 94, 96, 98, 100]\n"
     ]
    }
   ],
   "source": [
    "# 8. Adding even element in list from 1 to 100\n",
    "even_list = []\n",
    "for i in range(1,101):\n",
    "    if i%2==0:\n",
    "        even_list.append(i)\n",
    "print(even_list)"
   ]
  },
  {
   "cell_type": "code",
   "execution_count": null,
   "id": "6d7c9093-76a0-4d73-8e33-147ca0a24d34",
   "metadata": {},
   "outputs": [],
   "source": [
    "# 9. Odd number from list\n",
    "demo_list = [2,1,9,5,4,3]\n",
    "for i in demo_list:\n",
    "    if i%2!=0:\n",
    "        pri"
   ]
  }
 ],
 "metadata": {
  "kernelspec": {
   "display_name": "Python 3 (ipykernel)",
   "language": "python",
   "name": "python3"
  },
  "language_info": {
   "codemirror_mode": {
    "name": "ipython",
    "version": 3
   },
   "file_extension": ".py",
   "mimetype": "text/x-python",
   "name": "python",
   "nbconvert_exporter": "python",
   "pygments_lexer": "ipython3",
   "version": "3.13.7"
  }
 },
 "nbformat": 4,
 "nbformat_minor": 5
}
