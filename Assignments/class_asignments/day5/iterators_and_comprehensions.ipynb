{
 "cells": [
  {
   "cell_type": "code",
   "id": "initial_id",
   "metadata": {
    "collapsed": true,
    "ExecuteTime": {
     "end_time": "2025-09-13T10:29:41.928839Z",
     "start_time": "2025-09-13T10:29:41.916565Z"
    }
   },
   "source": [
    "\n",
    "\n",
    "#Two vowels\n",
    "\n",
    "myList = ['string','apple','vowel', 'google','car','bat']\n",
    "vowels = ['a','e','i','u','o']\n",
    "def check_2vowels(myStr):\n",
    "    count = 0\n",
    "    for ch in myStr:\n",
    "\n",
    "        if ch in vowels:\n",
    "            count = count + 1\n",
    "        if count == 2:\n",
    "            return True\n",
    "    return False\n",
    "newList = [i for i in myList if check_2vowels(i)]\n",
    "print(newList)"
   ],
   "outputs": [
    {
     "name": "stdout",
     "output_type": "stream",
     "text": [
      "['apple', 'vowel', 'google']\n"
     ]
    }
   ],
   "execution_count": 3
  },
  {
   "metadata": {
    "ExecuteTime": {
     "end_time": "2025-09-13T10:33:19.756539Z",
     "start_time": "2025-09-13T10:33:19.746430Z"
    }
   },
   "cell_type": "code",
   "source": [
    "#Name starting with 'A'\n",
    "\n",
    "myList = ['Satyam','Arjun','Abhimanyu','Ashwathama','Williams','CoolGuy']\n",
    "\n",
    "a_names = [x.upper() for x in myList if x.lower().startswith('a')]\n",
    "print(a_names)"
   ],
   "id": "3fc5c40a4991b15d",
   "outputs": [
    {
     "name": "stdout",
     "output_type": "stream",
     "text": [
      "['ARJUN', 'ABHIMANYU', 'ASHWATHAMA']\n"
     ]
    }
   ],
   "execution_count": 5
  },
  {
   "metadata": {
    "ExecuteTime": {
     "end_time": "2025-09-13T10:55:23.706175Z",
     "start_time": "2025-09-13T10:55:23.696372Z"
    }
   },
   "cell_type": "code",
   "source": [
    "#Dicticionary using two list\n",
    "names = ['abc','mno','pqr','xyz','wvq']\n",
    "marks = [90,80,75,42]\n",
    "\n",
    "dict_map = {}\n",
    "# def create_dict(lst1,lst2):\n",
    "#     dict2 = {}\n",
    "#     for i in range(len(lst1)):\n",
    "#         type(lst2)\n",
    "#         if i>=len(lst2):\n",
    "#             dict2[lst1[i]] = None\n",
    "#         else:\n",
    "#             dict2[lst1[i]]= lst2[i]\n",
    "#     return dict2\n",
    "\n",
    "def create_dict(key,value):\n",
    "    return (key,value)\n",
    "\n",
    "dict_map = (map(create_dict,names,marks))\n",
    "print(dict(dict_map))\n"
   ],
   "id": "459ff5a2ea637b77",
   "outputs": [
    {
     "name": "stdout",
     "output_type": "stream",
     "text": [
      "{'abc': 90, 'mno': 80, 'pqr': 75, 'xyz': 42}\n"
     ]
    }
   ],
   "execution_count": 20
  },
  {
   "metadata": {},
   "cell_type": "code",
   "outputs": [],
   "execution_count": null,
   "source": "",
   "id": "af2a90088a1cf22e"
  },
  {
   "metadata": {
    "ExecuteTime": {
     "end_time": "2025-09-13T11:14:15.857779Z",
     "start_time": "2025-09-13T11:14:15.850145Z"
    }
   },
   "cell_type": "code",
   "source": [
    "s = \"aa12bb4c3d56\"\n",
    "\n",
    "numbers_list = [int(i) for i in s if i.isnumeric() ]\n",
    "print(numbers_list)"
   ],
   "id": "98aa049aedb0792e",
   "outputs": [
    {
     "name": "stdout",
     "output_type": "stream",
     "text": [
      "[1, 2, 4, 3, 5, 6]\n"
     ]
    }
   ],
   "execution_count": 23
  },
  {
   "metadata": {
    "ExecuteTime": {
     "end_time": "2025-09-13T11:14:00.773224Z",
     "start_time": "2025-09-13T11:14:00.758097Z"
    }
   },
   "cell_type": "code",
   "source": "",
   "id": "b7b090af94e29a5",
   "outputs": [
    {
     "data": {
      "text/plain": [
       "[1, 2, 4, 3, 5, 6]"
      ]
     },
     "execution_count": 22,
     "metadata": {},
     "output_type": "execute_result"
    }
   ],
   "execution_count": 22
  },
  {
   "metadata": {},
   "cell_type": "code",
   "outputs": [],
   "execution_count": null,
   "source": "",
   "id": "34ee97300aa790fa"
  }
 ],
 "metadata": {
  "kernelspec": {
   "display_name": "Python 3",
   "language": "python",
   "name": "python3"
  },
  "language_info": {
   "codemirror_mode": {
    "name": "ipython",
    "version": 2
   },
   "file_extension": ".py",
   "mimetype": "text/x-python",
   "name": "python",
   "nbconvert_exporter": "python",
   "pygments_lexer": "ipython2",
   "version": "2.7.6"
  }
 },
 "nbformat": 4,
 "nbformat_minor": 5
}
