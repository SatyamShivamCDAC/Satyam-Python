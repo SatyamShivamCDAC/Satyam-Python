{
 "cells": [
  {
   "cell_type": "code",
   "id": "initial_id",
   "metadata": {
    "collapsed": true,
    "ExecuteTime": {
     "end_time": "2025-09-11T05:28:41.599968Z",
     "start_time": "2025-09-11T05:28:41.591537Z"
    }
   },
   "source": [
    "#removing duplicate in sting\n",
    "def remove_duplicat_char(text):\n",
    "    char_arr = []\n",
    "    for i in text:\n",
    "        if i == ' ':\n",
    "            char_arr.append(i)\n",
    "        else:\n",
    "            if i not in char_arr:\n",
    "                char_arr.append(i)\n",
    "    print(''.join(char_arr))\n"
   ],
   "outputs": [],
   "execution_count": 3
  },
  {
   "metadata": {
    "ExecuteTime": {
     "end_time": "2025-09-11T05:28:43.389993Z",
     "start_time": "2025-09-11T05:28:43.382297Z"
    }
   },
   "cell_type": "code",
   "source": "remove_duplicat_char(\"this is sparta\")",
   "id": "30ef92b5aff1a7b8",
   "outputs": [
    {
     "name": "stdout",
     "output_type": "stream",
     "text": [
      "this  par\n"
     ]
    }
   ],
   "execution_count": 4
  },
  {
   "metadata": {
    "ExecuteTime": {
     "end_time": "2025-09-11T05:51:34.911228Z",
     "start_time": "2025-09-11T05:51:34.902427Z"
    }
   },
   "cell_type": "code",
   "source": [
    "#list to sublist\n",
    "def sublist(lst,num):\n",
    "    new_lst = []\n",
    "    sml = []\n",
    "    for i in range(len(lst)):\n",
    "        if (i+1)%num == 0:\n",
    "            new_lst.append(sml)\n",
    "            sml.append(lst[i])\n",
    "            sml = []\n",
    "        else:\n",
    "            sml.append(lst[i])\n",
    "    new_lst.append(sml)\n",
    "    return new_lst"
   ],
   "id": "413a5dda957af451",
   "outputs": [],
   "execution_count": 44
  },
  {
   "metadata": {
    "ExecuteTime": {
     "end_time": "2025-09-11T06:07:38.183906Z",
     "start_time": "2025-09-11T06:07:38.175277Z"
    }
   },
   "cell_type": "code",
   "source": "print(sublist([1,2,3,4],4))",
   "id": "386fe65f33db4e7d",
   "outputs": [
    {
     "name": "stdout",
     "output_type": "stream",
     "text": [
      "[[1, 2, 3, 4], []]\n"
     ]
    }
   ],
   "execution_count": 46
  },
  {
   "metadata": {},
   "cell_type": "code",
   "outputs": [],
   "execution_count": null,
   "source": [
    "#String to expression\n",
    "\n",
    "expression = '15 / 3 * 2 + 5 - -3'\n",
    "values = expression.split(' ')\n",
    "operations = []\n",
    "\n",
    "print(values)\n",
    "\n",
    "while True:\n",
    "    if values.count('/') != 0:\n",
    "        index = values.index('/')\n",
    "        result = float(values[index - 1]) / float(values[index + 1])\n",
    "        del values[index + 1], values[index]\n",
    "        values[index - 1] = result\n",
    "        print(result)\n",
    "    elif values.count('*') != 0:\n",
    "        index = values.index('*')\n",
    "        result = float(values[index - 1]) * float(values[index + 1])\n",
    "        del values[index + 1], values[index]\n",
    "        values[index - 1] = result\n",
    "        print(result)\n",
    "    elif values.count('+') != 0:\n",
    "        index = values.index('+')\n",
    "        result = float(values[index - 1]) + float(values[index + 1])\n",
    "        del values[index + 1], values[index]\n",
    "        values[index - 1] = result\n",
    "        print(result)\n",
    "    elif values.count('-') != 0:\n",
    "        index = values.index('-')\n",
    "        result = float(values[index - 1]) - float(values[index + 1])\n",
    "        del values[index + 1], values[index]\n",
    "        values[index - 1] = result\n",
    "        print(result)\n",
    "    else:\n",
    "        break\n",
    "\n",
    "\n",
    "print(values)"
   ],
   "id": "d60f0b6af36bfcc5"
  }
 ],
 "metadata": {
  "kernelspec": {
   "display_name": "Python 3",
   "language": "python",
   "name": "python3"
  },
  "language_info": {
   "codemirror_mode": {
    "name": "ipython",
    "version": 2
   },
   "file_extension": ".py",
   "mimetype": "text/x-python",
   "name": "python",
   "nbconvert_exporter": "python",
   "pygments_lexer": "ipython2",
   "version": "2.7.6"
  }
 },
 "nbformat": 4,
 "nbformat_minor": 5
}
