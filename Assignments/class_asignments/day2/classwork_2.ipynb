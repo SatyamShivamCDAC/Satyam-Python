{
 "cells": [
  {
   "cell_type": "code",
   "id": "initial_id",
   "metadata": {
    "collapsed": true,
    "ExecuteTime": {
     "end_time": "2025-09-10T06:49:02.328363Z",
     "start_time": "2025-09-10T06:49:02.319650Z"
    }
   },
   "source": [
    "## =Increament Salary\n",
    "employees = {\"Satyam\": 90000,\"Shivam\" : 49000,\"Piyush\" : 900,\"Umange\":0}\n",
    "for key,value in employees.items():\n",
    "    if value<50000:\n",
    "        employees[key] = round(value*1.1,2)\n",
    "\n",
    "print(employees)"
   ],
   "outputs": [
    {
     "name": "stdout",
     "output_type": "stream",
     "text": [
      "{'Satyam': 90000, 'Shivam': 53900.0, 'Piyush': 990.0, 'Umange': 0.0}\n"
     ]
    }
   ],
   "execution_count": 8
  },
  {
   "metadata": {
    "ExecuteTime": {
     "end_time": "2025-09-10T06:45:19.169258Z",
     "start_time": "2025-09-10T06:45:19.161140Z"
    }
   },
   "cell_type": "code",
   "source": [
    "#dictionary from tuple\n",
    "key_value = [('a',1),('b',2),('c',3),('d',4)]\n",
    "dict1 = {}\n",
    "\n",
    "for key in key_value:\n",
    "    dict1[key[0]] = key[1]\n",
    "\n",
    "print(dict1)"
   ],
   "id": "784fa75beb316467",
   "outputs": [
    {
     "name": "stdout",
     "output_type": "stream",
     "text": [
      "{'a': 1, 'b': 2, 'c': 3, 'd': 4}\n"
     ]
    }
   ],
   "execution_count": 4
  },
  {
   "metadata": {
    "ExecuteTime": {
     "end_time": "2025-09-10T07:17:35.309285Z",
     "start_time": "2025-09-10T07:17:35.302946Z"
    }
   },
   "cell_type": "code",
   "source": [
    "#reversing Dictionary\n",
    "\n",
    "print(\"jarurat nahi hein, mt kar\")"
   ],
   "id": "d87c78222f22bcf8",
   "outputs": [
    {
     "name": "stdout",
     "output_type": "stream",
     "text": [
      "jarurat nahi hein, mt kar\n"
     ]
    }
   ],
   "execution_count": 9
  },
  {
   "metadata": {
    "ExecuteTime": {
     "end_time": "2025-09-10T07:54:58.326517Z",
     "start_time": "2025-09-10T07:54:58.317721Z"
    }
   },
   "cell_type": "code",
   "source": [
    "##pangram using set\n",
    "text_pan = \"The Quick brown fox jumps over the lazy dog\"\n",
    "text_list = list(text_pan.lower())\n",
    "text_set = set()\n",
    "for ch in text_list:\n",
    "    if ch.isalpha():\n",
    "        text_set.add(ch)\n",
    "if len(text_set) == 26:\n",
    "    print(\"given sentence is pangram\")\n",
    "else:\n",
    "    print(\"given sentence in not pangram\")\n"
   ],
   "id": "e08fb9f3fe59ba0c",
   "outputs": [
    {
     "name": "stdout",
     "output_type": "stream",
     "text": [
      "given sentence is pangram\n"
     ]
    }
   ],
   "execution_count": 22
  },
  {
   "metadata": {
    "ExecuteTime": {
     "end_time": "2025-09-10T08:08:43.532856Z",
     "start_time": "2025-09-10T08:08:43.517870Z"
    }
   },
   "cell_type": "code",
   "source": [
    "#Ceaser Cipher(Assignment1)\n",
    "cipher_key = {'a':'n', 'b':'o', 'c':'p', 'd':'q', 'e':'r', 'f':'s', 'g':'t', 'h':'u', 'i':'v', 'j':'w', 'k':'x', 'l':'y',\n",
    "'m':'z', 'n':'a','o':'b',\n",
    "'p':'c', 'q':'d', 'r':'e', 's':'f', 't':'g', 'u':'h', 'v':'i', 'w':'j', 'x':'k', 'y':'l', 'z':'m', 'A':'N', 'B':'O',\n",
    "'C':'P', 'D':'Q','E':'R',\n",
    "'F':'S', 'G':'T', 'H':'U', 'I':'V', 'J':'W', 'K':'X', 'L':'Y', 'M':'Z', 'N':'A', 'O':'B', 'P':'C', 'Q':'D', 'R':'E',\n",
    "'S':'F', 'T':'G', 'U':'H', 'V':'I', 'W':'J', 'X':'K', 'Y':'L', 'Z':'M'}\n",
    "\n",
    "original_text = \"This is a wonderfull day\"\n",
    "text_encoded = \"\"\n",
    "\n",
    "for char in original_text:\n",
    "    if not char.isalpha():\n",
    "        text_encoded = text_encoded + char\n",
    "    else:\n",
    "        text_encoded = text_encoded + cipher_key[char]\n",
    "print(text_encoded)\n",
    "\n",
    "text_decoded = \"\"\n",
    "\n",
    "for char in text_encoded:\n",
    "    if not char.isalpha():\n",
    "        text_decoded = text_decoded + char\n",
    "    else:\n",
    "        text_decoded = text_decoded + cipher_key[char]\n",
    "\n",
    "print(text_decoded)"
   ],
   "id": "f42eef86bbc845f2",
   "outputs": [
    {
     "name": "stdout",
     "output_type": "stream",
     "text": [
      "Guvf vf n jbaqreshyy qnl\n",
      "This is a wonderfull day\n"
     ]
    }
   ],
   "execution_count": 25
  },
  {
   "metadata": {
    "ExecuteTime": {
     "end_time": "2025-09-10T09:00:51.150534Z",
     "start_time": "2025-09-10T09:00:51.141171Z"
    }
   },
   "cell_type": "code",
   "source": [
    "## dictionary from letters of word\n",
    "\n",
    "list_of_words = ['abc','bda','dai','dbda','ai','by','www']\n",
    "\n",
    "dict1 = {}\n",
    "\n",
    "for word in list_of_words:\n",
    "\n",
    "    if not word[0] in dict1:\n",
    "        # numsa = [].append(word)\n",
    "        numsa = []\n",
    "        numsa.append(word)\n",
    "        dict1[word[0]] = numsa\n",
    "\n",
    "    else:\n",
    "        dict1[word[0]].append(word)\n",
    "print(dict1)"
   ],
   "id": "2bf7a02f5da39dbc",
   "outputs": [
    {
     "name": "stdout",
     "output_type": "stream",
     "text": [
      "{'a': ['abc', 'ai'], 'b': ['bda', 'by'], 'd': ['dai', 'dbda'], 'w': ['www']}\n"
     ]
    }
   ],
   "execution_count": 49
  },
  {
   "metadata": {
    "ExecuteTime": {
     "end_time": "2025-09-10T08:53:00.366835Z",
     "start_time": "2025-09-10T08:53:00.356686Z"
    }
   },
   "cell_type": "code",
   "source": [
    "#Invert the Dictionary\n",
    "\n",
    "input = {2: 'a',1: 'b',3:'c',4:'a',6:'b',5:'a'}\n",
    "output ={}\n",
    "\n",
    "for key,value in input.items():\n",
    "    new_list = []\n",
    "    if value in output:\n",
    "        if isinstance(output[value],list):\n",
    "            output[value].append(key)\n",
    "        else:\n",
    "            new_list.append(output[value])\n",
    "            new_list.append(key)\n",
    "            output[value] = new_list\n",
    "    else:\n",
    "        output[value] = key\n",
    "print(output)\n"
   ],
   "id": "2b778d9a74218748",
   "outputs": [
    {
     "name": "stdout",
     "output_type": "stream",
     "text": [
      "{'a': [2, 4, 5], 'b': [1, 6], 'c': 3}\n"
     ]
    }
   ],
   "execution_count": 42
  },
  {
   "metadata": {},
   "cell_type": "code",
   "outputs": [],
   "execution_count": null,
   "source": "",
   "id": "ff399e3064aa8cd3"
  }
 ],
 "metadata": {
  "kernelspec": {
   "display_name": "Python 3",
   "language": "python",
   "name": "python3"
  },
  "language_info": {
   "codemirror_mode": {
    "name": "ipython",
    "version": 2
   },
   "file_extension": ".py",
   "mimetype": "text/x-python",
   "name": "python",
   "nbconvert_exporter": "python",
   "pygments_lexer": "ipython2",
   "version": "2.7.6"
  }
 },
 "nbformat": 4,
 "nbformat_minor": 5
}
