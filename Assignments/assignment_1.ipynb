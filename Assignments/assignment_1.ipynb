{
 "cells": [
  {
   "cell_type": "code",
   "id": "initial_id",
   "metadata": {
    "collapsed": true,
    "ExecuteTime": {
     "end_time": "2025-09-09T12:20:41.545885Z",
     "start_time": "2025-09-09T12:20:41.536373Z"
    }
   },
   "source": [
    "\n",
    "\n",
    "## list of odd numbers between 1 to 100\n",
    "odd_list = []\n",
    "for num in range(1,101):\n",
    "    if num%2!=0:\n",
    "        odd_list.append(num)\n",
    "print(odd_list)"
   ],
   "outputs": [
    {
     "name": "stdout",
     "output_type": "stream",
     "text": [
      "[1, 3, 5, 7, 9, 11, 13, 15, 17, 19, 21, 23, 25, 27, 29, 31, 33, 35, 37, 39, 41, 43, 45, 47, 49, 51, 53, 55, 57, 59, 61, 63, 65, 67, 69, 71, 73, 75, 77, 79, 81, 83, 85, 87, 89, 91, 93, 95, 97, 99]\n"
     ]
    }
   ],
   "execution_count": 1
  },
  {
   "metadata": {
    "ExecuteTime": {
     "end_time": "2025-09-09T12:20:53.630664Z",
     "start_time": "2025-09-09T12:20:53.621979Z"
    }
   },
   "cell_type": "code",
   "source": [
    "##list of prime between 2 to 100\n",
    "prime_list = [2]\n",
    "for num in range(3,101,2):\n",
    "    for i in range(2,num//2+1):\n",
    "        if num%i==0:\n",
    "            break\n",
    "    else:\n",
    "        prime_list.append(num)\n",
    "print(prime_list)"
   ],
   "id": "71f02027091520dd",
   "outputs": [
    {
     "name": "stdout",
     "output_type": "stream",
     "text": [
      "[2, 3, 5, 7, 11, 13, 17, 19, 23, 29, 31, 37, 41, 43, 47, 53, 59, 61, 67, 71, 73, 79, 83, 89, 97]\n"
     ]
    }
   ],
   "execution_count": 2
  },
  {
   "metadata": {
    "ExecuteTime": {
     "end_time": "2025-09-09T12:21:04.400545Z",
     "start_time": "2025-09-09T12:21:04.390767Z"
    }
   },
   "cell_type": "code",
   "source": [
    "##duplicate elements in list\n",
    "my_list3 = [2,3,4,1,2,6,1,7]\n",
    "dup_list = []\n",
    "for num in my_list3:\n",
    "    if my_list3.count(num)>=2 :\n",
    "        if dup_list.count(num) == 0:\n",
    "            (dup_list.append(num))\n",
    "print(dup_list)"
   ],
   "id": "321ed155f762b6f1",
   "outputs": [
    {
     "name": "stdout",
     "output_type": "stream",
     "text": [
      "[2, 1]\n"
     ]
    }
   ],
   "execution_count": 3
  },
  {
   "metadata": {
    "ExecuteTime": {
     "end_time": "2025-09-09T12:21:12.687044Z",
     "start_time": "2025-09-09T12:21:12.678647Z"
    }
   },
   "cell_type": "code",
   "source": [
    "##Adding elements of two list\n",
    "my_list4 = [1,3,6,2,4]\n",
    "my_list5 = [5,7,0,9,8]\n",
    "sum_list = []\n",
    "for i in range(len(my_list4)):\n",
    "    sum_list.append(my_list4[i]+ my_list5[i])\n",
    "print(sum_list)"
   ],
   "id": "53c2c05de7d000b6",
   "outputs": [
    {
     "name": "stdout",
     "output_type": "stream",
     "text": [
      "[6, 10, 6, 11, 12]\n"
     ]
    }
   ],
   "execution_count": 4
  },
  {
   "metadata": {
    "ExecuteTime": {
     "end_time": "2025-09-09T12:21:35.681837Z",
     "start_time": "2025-09-09T12:21:35.670380Z"
    }
   },
   "cell_type": "code",
   "source": [
    "##Adding elements of two lis twith different lenght\n",
    "my_list6 = [1,2,5,7]\n",
    "my_list7 = [9,4,3,0,6,8]\n",
    "sum_list2 = []\n",
    "rng = min(len(my_list6),len(my_list7))\n",
    "for i in range(rng):\n",
    "    sum_list2.append(my_list6[i]+ my_list7[i])\n",
    "if len(my_list7)>len(my_list6):\n",
    "    sum_list2.extend(my_list7[rng:])\n",
    "else:\n",
    "    sum_list2.extend(my_list6[rng:])\n",
    "print(sum_list2)"
   ],
   "id": "6001d939a4049444",
   "outputs": [
    {
     "name": "stdout",
     "output_type": "stream",
     "text": [
      "[10, 6, 8, 7, 6, 8]\n"
     ]
    }
   ],
   "execution_count": 5
  },
  {
   "metadata": {
    "ExecuteTime": {
     "end_time": "2025-09-09T12:21:38.235788Z",
     "start_time": "2025-09-09T12:21:38.227655Z"
    }
   },
   "cell_type": "code",
   "source": [
    "##removing dublicate\n",
    "\n",
    "my_list8 = [2,3,4,1,2,6,1,7]\n",
    "\n",
    "for num in my_list3:\n",
    "    if my_list8.count(num)>=2 :\n",
    "        my_list8.remove(num)\n",
    "print(my_list8)"
   ],
   "id": "89f802b1b12cb79e",
   "outputs": [
    {
     "name": "stdout",
     "output_type": "stream",
     "text": [
      "[3, 4, 2, 6, 1, 7]\n"
     ]
    }
   ],
   "execution_count": 6
  },
  {
   "metadata": {
    "ExecuteTime": {
     "end_time": "2025-09-09T12:31:10.592498Z",
     "start_time": "2025-09-09T12:31:10.583940Z"
    }
   },
   "cell_type": "code",
   "source": [
    "##Reverse of words of String\n",
    "\n",
    "str1 = \"Hello! my name is Satyam Prajapati\"\n",
    "char_str = str1.split()\n",
    "char_str2 = []\n",
    "for word in char_str:\n",
    "    word = word[: :-1]\n",
    "    char_str2.append(word)\n",
    "\n",
    "str1_reversed = \" \".join(char_str2)\n",
    "print(str1_reversed)\n"
   ],
   "id": "e1492941979ac0ca",
   "outputs": [
    {
     "name": "stdout",
     "output_type": "stream",
     "text": [
      "!olleH ym eman si maytaS itapajarP\n"
     ]
    }
   ],
   "execution_count": 14
  },
  {
   "metadata": {},
   "cell_type": "markdown",
   "source": "",
   "id": "f23bb824cc4c1150"
  },
  {
   "metadata": {
    "ExecuteTime": {
     "end_time": "2025-09-09T13:36:50.438420Z",
     "start_time": "2025-09-09T13:36:50.432994Z"
    }
   },
   "cell_type": "code",
   "source": [
    "##Swap the cases of String without swapcase\n",
    "\n",
    "sss = \"ToDay Is GooD daY\"\n",
    "\n",
    "swapped = []\n",
    "for i in sss:\n",
    "    if i.isupper():\n",
    "        swapped.append(i.lower())\n",
    "    else:\n",
    "        swapped.append(i.upper())\n",
    "swapped_string = \"\".join(swapped)\n",
    "print(swapped_string)\n"
   ],
   "id": "e7dd449b21ad5e8a",
   "outputs": [
    {
     "name": "stdout",
     "output_type": "stream",
     "text": [
      "tOdAY iS gOOd DAy\n"
     ]
    }
   ],
   "execution_count": 20
  },
  {
   "metadata": {
    "ExecuteTime": {
     "end_time": "2025-09-09T13:48:01.673786Z",
     "start_time": "2025-09-09T13:48:01.659848Z"
    }
   },
   "cell_type": "code",
   "source": [
    "## Compressing the string\n",
    "# I/P : aaaabbcddd\n",
    "# O/p : a3b2c13\n",
    "\n",
    "com = 'aaaabbcddd'\n",
    "compress = []\n",
    "compressed = []\n",
    "for i in com:\n",
    "    compress.append(i)\n",
    "    compress.append(str(com.count(i)))\n",
    "for i in compress:\n",
    "    if compress.count(i)>=2:\n",
    "        if compressed.count(i)==0:\n",
    "            compressed.append(i)\n",
    "compressed_str = \"\".join(compressed)\n",
    "print(compressed_str)"
   ],
   "id": "376f2be1e2568e26",
   "outputs": [
    {
     "name": "stdout",
     "output_type": "stream",
     "text": [
      "a4b2d3\n"
     ]
    }
   ],
   "execution_count": 31
  },
  {
   "metadata": {
    "ExecuteTime": {
     "end_time": "2025-09-09T13:50:59.098547Z",
     "start_time": "2025-09-09T13:50:59.090306Z"
    }
   },
   "cell_type": "code",
   "source": [
    "## Anagram\n",
    "\n",
    "stra1 = 'silent'\n",
    "stra2 = 'listen'\n",
    "is_anagram = True\n",
    "for i in stra1:\n",
    "    if stra1.count(i) != stra2.count(i):\n",
    "        is_anagram = False\n",
    "print(\"Anagram : \",is_anagram)"
   ],
   "id": "8bae76bcf17cd8a",
   "outputs": [
    {
     "name": "stdout",
     "output_type": "stream",
     "text": [
      "Anagram :  False\n"
     ]
    }
   ],
   "execution_count": 33
  },
  {
   "metadata": {
    "ExecuteTime": {
     "end_time": "2025-09-09T13:51:41.968237Z",
     "start_time": "2025-09-09T13:51:41.960218Z"
    }
   },
   "cell_type": "code",
   "source": [
    "#Removing duplicate from String\n",
    "my_list8 = [2,3,4,1,2,6,1,7]\n",
    "\n",
    "for num in my_list3:\n",
    "    if my_list8.count(num)>=2 :\n",
    "        my_list8.remove(num)\n",
    "print(my_list8)\n"
   ],
   "id": "99ead41f8646983f",
   "outputs": [
    {
     "name": "stdout",
     "output_type": "stream",
     "text": [
      "[3, 4, 2, 6, 1, 7]\n"
     ]
    }
   ],
   "execution_count": 34
  },
  {
   "metadata": {
    "ExecuteTime": {
     "end_time": "2025-09-09T13:54:33.930712Z",
     "start_time": "2025-09-09T13:54:33.922451Z"
    }
   },
   "cell_type": "code",
   "source": [
    "#longest word in message\n",
    "\n",
    "strl = \"hello , this is message forall\"\n",
    "\n",
    "char_arr = strl.split()\n",
    "longest = ''\n",
    "for word in char_arr:\n",
    "    if len(longest)<len(word):\n",
    "        longest = word\n",
    "print(\"Longest word in string is - \",longest)"
   ],
   "id": "c22ecdd72039ced3",
   "outputs": [
    {
     "name": "stdout",
     "output_type": "stream",
     "text": [
      "Longest word in string is -  forsafasfa\n"
     ]
    }
   ],
   "execution_count": 37
  },
  {
   "metadata": {
    "ExecuteTime": {
     "end_time": "2025-09-09T14:00:04.306683Z",
     "start_time": "2025-09-09T14:00:04.297766Z"
    }
   },
   "cell_type": "code",
   "source": [
    "#Vowel Count\n",
    "strl = \"hello , this is message forall\"\n",
    "\n",
    "a_count = strl.count('a')\n",
    "e_count = strl.count('e')\n",
    "i_count = strl.count('i')\n",
    "o_count = strl.count('o')\n",
    "u_count = strl.count('u')\n",
    "\n",
    "print(f\"a:{a_count}, e:{e_count}, i:{i_count}, o:{o_count}, u:{u_count}\")\n",
    "\n"
   ],
   "id": "44c1e12785e6884b",
   "outputs": [
    {
     "name": "stdout",
     "output_type": "stream",
     "text": [
      "a:2, e:3, i:2, o:2, u:0\n"
     ]
    }
   ],
   "execution_count": 38
  },
  {
   "metadata": {
    "ExecuteTime": {
     "end_time": "2025-09-09T14:07:03.700073Z",
     "start_time": "2025-09-09T14:07:03.691849Z"
    }
   },
   "cell_type": "code",
   "source": [
    "#palindrome\n",
    "\n",
    "strp1 = 'acvd'\n",
    "strp2 = 'dvca'\n",
    "is_palindrom = True\n",
    "for i in range(len(strp1)-1):\n",
    "    if strp1[i] != strp2[-(i+1)]:\n",
    "        is_palindrom = False\n",
    "print(is_palindrom)\n"
   ],
   "id": "3681150432e8235c",
   "outputs": [
    {
     "name": "stdout",
     "output_type": "stream",
     "text": [
      "True\n"
     ]
    }
   ],
   "execution_count": 45
  },
  {
   "metadata": {
    "ExecuteTime": {
     "end_time": "2025-09-09T14:13:01.302721Z",
     "start_time": "2025-09-09T14:13:01.291991Z"
    }
   },
   "cell_type": "code",
   "source": [
    "## Remove Punctuation\n",
    "\n",
    "strpu1 = \"hello! how's life?\"\n",
    "strpu2_arr = []\n",
    "for i in strpu1:\n",
    "    if i.isalnum() or i.isspace():\n",
    "        strpu2_arr.append(i)\n",
    "strpu2 = \"\".join(strpu2_arr)\n",
    "strpu2\n"
   ],
   "id": "c93649293a1eff07",
   "outputs": [
    {
     "data": {
      "text/plain": [
       "'hello hows life'"
      ]
     },
     "execution_count": 50,
     "metadata": {},
     "output_type": "execute_result"
    }
   ],
   "execution_count": 50
  },
  {
   "metadata": {
    "ExecuteTime": {
     "end_time": "2025-09-09T14:15:32.008694Z",
     "start_time": "2025-09-09T14:15:32.000187Z"
    }
   },
   "cell_type": "code",
   "source": [
    "#sum of digits in string\n",
    "\n",
    "strsu = \"hello 2 4 smile 7\"\n",
    "sum = 0\n",
    "for i in strsu:\n",
    "    if i.isnumeric():\n",
    "        sum = sum + int(i)\n",
    "print(sum)\n"
   ],
   "id": "83e560c14d0fd8e7",
   "outputs": [
    {
     "name": "stdout",
     "output_type": "stream",
     "text": [
      "13\n"
     ]
    }
   ],
   "execution_count": 53
  },
  {
   "metadata": {
    "ExecuteTime": {
     "end_time": "2025-09-09T14:21:11.051022Z",
     "start_time": "2025-09-09T14:21:11.042443Z"
    }
   },
   "cell_type": "code",
   "source": [
    "#Common words\n",
    "\n",
    "strcom= \"this is practice practice string string string for for python class  \"\n",
    "\n",
    "strcom_arr = strcom.split()\n",
    "count1 = 0\n",
    "most_common = ''\n",
    "for word in strcom_arr:\n",
    "    if strcom_arr.count(word)>count1:\n",
    "        most_common = word\n",
    "        count1 = strcom_arr.count(word)\n",
    "print(most_common)"
   ],
   "id": "929122244f4d5e66",
   "outputs": [
    {
     "name": "stdout",
     "output_type": "stream",
     "text": [
      "string\n"
     ]
    }
   ],
   "execution_count": 60
  },
  {
   "metadata": {
    "ExecuteTime": {
     "end_time": "2025-09-09T14:32:17.742437Z",
     "start_time": "2025-09-09T14:32:17.730445Z"
    }
   },
   "cell_type": "code",
   "source": [
    "#Sort word by lenght\n",
    "\n",
    "str_sor = \"what is your name! How  you are\"\n",
    "str_sor_arr = str_sor.split()\n",
    "len_sort = []\n",
    "for i in range(10):\n",
    "    st = []\n",
    "    for j in str_sor_arr:\n",
    "        if i == len(j):\n",
    "            st.append(j)\n",
    "    st.sort()\n",
    "    len_sort.extend(st)\n",
    "len_sort"
   ],
   "id": "7e2d8ec30430e6d9",
   "outputs": [
    {
     "data": {
      "text/plain": [
       "['is', 'How', 'are', 'you', 'what', 'your', 'name!']"
      ]
     },
     "execution_count": 65,
     "metadata": {},
     "output_type": "execute_result"
    }
   ],
   "execution_count": 65
  },
  {
   "metadata": {
    "ExecuteTime": {
     "end_time": "2025-09-09T14:35:44.558063Z",
     "start_time": "2025-09-09T14:35:44.551777Z"
    }
   },
   "cell_type": "code",
   "source": [
    "#Check Isogram\n",
    "\n",
    "str_iso = \"helsfag\"\n",
    "is_isogram = True\n",
    "for i in str_iso:\n",
    "    if str_iso.count(i)>=2:\n",
    "        is_isogram = False\n",
    "print(is_isogram)\n"
   ],
   "id": "54993c2b0c70ac67",
   "outputs": [
    {
     "name": "stdout",
     "output_type": "stream",
     "text": [
      "True\n"
     ]
    }
   ],
   "execution_count": 68
  },
  {
   "metadata": {
    "ExecuteTime": {
     "end_time": "2025-09-09T14:43:00.745557Z",
     "start_time": "2025-09-09T14:43:00.734575Z"
    }
   },
   "cell_type": "code",
   "source": [
    "# Second Most Frequent Character\n",
    "strsec = 'Hello this world is beautiful'\n",
    "sec_occ = ''\n",
    "max = 0\n",
    "max_occ = ''\n",
    "mid = 0\n",
    "mid_occ = ''\n",
    "for i in strsec:\n",
    "    if strsec.count(i)>max:\n",
    "        max = strsec.count(i)\n",
    "        max_occ = i\n",
    "\n",
    "for i in strsec:\n",
    "    if strsec.count(i)<max and strsec.count(i)>mid:\n",
    "        mid = strsec.count(i)\n",
    "        mid_occ = i\n",
    "print(\"Second most occurant : \",mid_occ )"
   ],
   "id": "a9a63105020ce340",
   "outputs": [
    {
     "name": "stdout",
     "output_type": "stream",
     "text": [
      "Second most occurant :  i\n"
     ]
    }
   ],
   "execution_count": 73
  },
  {
   "metadata": {
    "ExecuteTime": {
     "end_time": "2025-09-09T14:49:00.701564Z",
     "start_time": "2025-09-09T14:48:49.860732Z"
    }
   },
   "cell_type": "code",
   "source": [
    "# word starting with given characters\n",
    "stro = 'hello! life is beautifull. This time i am going to park'\n",
    "cho = (input(\"write a character : \"))\n",
    "\n",
    "stro_arr = stro.split()\n",
    "stro_arr2 = []\n",
    "for word in stro_arr:\n",
    "    if word[0].lower() == cho.lower():\n",
    "        stro_arr2.append(word)\n",
    "print(f\"Words starting with input character - {stro_arr2}\")"
   ],
   "id": "555b36b5afa9a18",
   "outputs": [
    {
     "name": "stdout",
     "output_type": "stream",
     "text": [
      "Words starting with input character - ['This', 'time', 'to']\n"
     ]
    }
   ],
   "execution_count": 76
  },
  {
   "metadata": {
    "ExecuteTime": {
     "end_time": "2025-09-09T14:53:55.679688Z",
     "start_time": "2025-09-09T14:53:55.672343Z"
    }
   },
   "cell_type": "code",
   "source": [
    "#count uppercase lowercase and special case\n",
    "\n",
    "struls = 'hello! life is beautiFuLL. ThiS tIMe I Am going to PaRk'\n",
    "\n",
    "upper = 0\n",
    "lower = 0\n",
    "special = 0\n",
    "\n",
    "for i in struls:\n",
    "    if i.isupper():\n",
    "        upper = upper + 1\n",
    "    elif i.islower():\n",
    "        lower = lower + 1\n",
    "    elif i.isnumeric() or i.isspace():\n",
    "        pass\n",
    "    else:\n",
    "        special = special+1\n",
    "print(f\"upper : {upper},lower : {lower}, special : {special}\")"
   ],
   "id": "9a3fd6e6f8557afb",
   "outputs": [
    {
     "name": "stdout",
     "output_type": "stream",
     "text": [
      "upper : 11,lower : 32, special : 2\n"
     ]
    }
   ],
   "execution_count": 78
  },
  {
   "metadata": {},
   "cell_type": "code",
   "outputs": [],
   "execution_count": null,
   "source": "",
   "id": "11f3c8f29379e350"
  }
 ],
 "metadata": {
  "kernelspec": {
   "display_name": "Python 3",
   "language": "python",
   "name": "python3"
  },
  "language_info": {
   "codemirror_mode": {
    "name": "ipython",
    "version": 2
   },
   "file_extension": ".py",
   "mimetype": "text/x-python",
   "name": "python",
   "nbconvert_exporter": "python",
   "pygments_lexer": "ipython2",
   "version": "2.7.6"
  }
 },
 "nbformat": 4,
 "nbformat_minor": 5
}
